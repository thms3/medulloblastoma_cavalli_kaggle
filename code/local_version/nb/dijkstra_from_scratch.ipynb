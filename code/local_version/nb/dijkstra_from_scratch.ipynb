{
 "cells": [
  {
   "cell_type": "markdown",
   "id": "d13dba26-4644-4fc2-854d-09aa42641467",
   "metadata": {},
   "source": [
    "# Dijkstra from scratch\n",
    "https://joshuacclark.medium.com/dijkstras-algorithm-with-adjacency-lists-ae2e9301d315"
   ]
  },
  {
   "cell_type": "code",
   "execution_count": 9,
   "id": "5e593cfc-22d8-416f-8070-3df6945ef5b8",
   "metadata": {},
   "outputs": [],
   "source": [
    "import pandas as pd\n",
    "import numpy as np\n",
    "import matplotlib.pyplot as plt\n",
    "from collections import defaultdict \n",
    "\n",
    "import heapq\n",
    "\n",
    "from sklearn.preprocessing import StandardScaler\n",
    "\n",
    "from scipy.special import betainc\n",
    "\n",
    "from concurrent.futures import ProcessPoolExecutor, as_completed"
   ]
  },
  {
   "cell_type": "code",
   "execution_count": 1,
   "id": "c295b944-40aa-47e0-a711-d9366151c54a",
   "metadata": {},
   "outputs": [
    {
     "ename": "SyntaxError",
     "evalue": "incomplete input (521537507.py, line 50)",
     "output_type": "error",
     "traceback": [
      "\u001b[0;36m  Cell \u001b[0;32mIn[1], line 50\u001b[0;36m\u001b[0m\n\u001b[0;31m    \u001b[0m\n\u001b[0m    ^\u001b[0m\n\u001b[0;31mSyntaxError\u001b[0m\u001b[0;31m:\u001b[0m incomplete input\n"
     ]
    }
   ],
   "source": [
    "class SearchEdge:\n",
    "\n",
    "    def __init__(self,adj_mat:np.ndarray):\n",
    "        self.adj_list = self.adjacenty_from_matrix_to_list(adj_mat)\n",
    "        self.n = len(self.adj_list)\n",
    "\n",
    "    def adjacenty_from_matrix_to_list(self,adj_mat:np.ndarray) -> defaultdict:\n",
    "\n",
    "        adj_list = defaultdict(list)\n",
    "\n",
    "        for i,j in zip(*np.where(np.triu(adj_mat))):\n",
    "            adj_list[i].append([j,adj_mat[i,j]])\n",
    "            adj_list[j].append([i,adj_mat[j,i]])\n",
    "\n",
    "        return adj_list\n",
    "\n",
    "    def min_distance(self, dist:list, seen:set):\n",
    "\n",
    "        min_dist = float('inf')\n",
    "\n",
    "        for i in range(len(self.adj_list)):\n",
    "            if i not in seen and dist[i] < min_dist: # Avoid to turn\n",
    "                min_d = dist[i]\n",
    "                min_node = i\n",
    "                \n",
    "        return min_node\n",
    "                \n",
    "    def slow_dijkstra(self,start):\n",
    "\n",
    "        dist = [float('inf')]*len(self.adj_list)\n",
    "        seen=set()\n",
    "        dist[start]=0\n",
    "\n",
    "        for _ in range(len(self.adj_list)):\n",
    "            current_node = self.min_distance(dist, seen)\n",
    "            seen.add(current_node)\n",
    "\n",
    "            for node, weight in self.adj_list[current_node]:\n",
    "                if node not in seen and dist[node] > dist[current_node] + weight:\n",
    "                    dist[node] = dist[current_node] + weight\n",
    "\n",
    "    def dijkstra_optim(self,start_node:int,end_node:int=-1,depth_lim=None):\n",
    "\n",
    "        dist = [float('inf')] * self.n\n",
    "        seen = set ()\n",
    "        heap = []\n",
    "        depth_tracker = [0] * self.n\n",
    "        previous_nodes = [None] * self.n\n",
    "\n",
    "        dist[start_node]=0\n",
    "        heapq.heappush(heap, (0, start_node, 0))\n",
    "\n",
    "        while heap:\n",
    "            current_dist, node, current_depth = heapq.heappop(heap)\n",
    "\n",
    "        pass\n",
    "\n",
    "    def get_path(self,previous_node,start_node,end_node):\n",
    "\n",
    "        path = []\n",
    "        node = end\n",
    "\n",
    "        with node is not None:\n",
    "            path.insert(0, node)\n",
    "            if node == start_node:\n",
    "                break\n",
    "            node = previous_nodes[node]\n",
    "        return path if path[0] == start_node else None\n",
    "            \n",
    "        \n",
    "        \n",
    "\n",
    "        \n",
    "\n",
    "        \n",
    "\n",
    "        \n",
    "\n",
    "        \n",
    "        \n",
    "\n",
    "    \n",
    "\n",
    "        \n",
    "                "
   ]
  },
  {
   "cell_type": "code",
   "execution_count": 79,
   "id": "c38b728c-abca-4262-a354-c21a6a2d6c00",
   "metadata": {},
   "outputs": [],
   "source": [
    "matrix = np.array([[0, 7, 9, 0, 0, 14],\n",
    "                    [7, 0, 10, 15, 0, 0],\n",
    "                    [9, 10, 0, 11, 0, 2],\n",
    "                    [0, 15, 11, 0, 6, 0],\n",
    "                    [0, 0, 0, 6, 0, 9],\n",
    "                    [14, 0, 2, 0, 9, 0]])"
   ]
  },
  {
   "cell_type": "code",
   "execution_count": 80,
   "id": "1db48848-ced5-4a33-abd3-2fe6cfd18da1",
   "metadata": {},
   "outputs": [
    {
     "name": "stdout",
     "output_type": "stream",
     "text": [
      "[0, 7, 9, 29, 23, 14]\n"
     ]
    }
   ],
   "source": [
    "se = SearchEdge(matrix)\n",
    "se.slow_dijkstra(start=0)"
   ]
  },
  {
   "cell_type": "code",
   "execution_count": 56,
   "id": "8027d0dd-a914-4491-8e15-998b539226cd",
   "metadata": {},
   "outputs": [],
   "source": [
    "test = adjacenty_from_matrix_to_list(adj_mat=matrix)"
   ]
  },
  {
   "cell_type": "code",
   "execution_count": 67,
   "id": "a20c9323-e1ff-4355-9e3c-ee3550389d81",
   "metadata": {},
   "outputs": [
    {
     "data": {
      "text/plain": [
       "defaultdict(list,\n",
       "            {0: [[1, 7], [2, 9], [5, 14]],\n",
       "             1: [[0, 7], [2, 10], [3, 15]],\n",
       "             2: [[0, 9], [1, 10], [3, 11], [5, 2]],\n",
       "             5: [[0, 14], [2, 2], [4, 9]],\n",
       "             3: [[1, 15], [2, 11], [4, 6]],\n",
       "             4: [[3, 6], [5, 9]]})"
      ]
     },
     "execution_count": 67,
     "metadata": {},
     "output_type": "execute_result"
    }
   ],
   "source": [
    "test"
   ]
  },
  {
   "cell_type": "code",
   "execution_count": 7,
   "id": "075f6aa0-b431-4e0b-9fe8-bcdf7f2af622",
   "metadata": {},
   "outputs": [],
   "source": [
    "def dijkstra_depth_lim(adj_mat,start,end):\n",
    "\n",
    "    #init priority queue\n",
    "    priority_queue = [(0,start,0)]\n",
    "\n",
    "    while priority_queue:\n",
    "        current_dist, current_node, current_depth = heapq.heappop(priority_queue)\n",
    "\n",
    "        print(current_dist)\n",
    "        print(current_node)\n",
    "        print(current_depth)"
   ]
  },
  {
   "cell_type": "code",
   "execution_count": 8,
   "id": "d585e3e0-59d3-4360-89a9-0e4387b1a063",
   "metadata": {},
   "outputs": [
    {
     "name": "stdout",
     "output_type": "stream",
     "text": [
      "0\n",
      "0\n",
      "0\n"
     ]
    }
   ],
   "source": [
    "dijkstra_depth_lim(adj_mat=matrix,start=0,end=2)"
   ]
  },
  {
   "cell_type": "code",
   "execution_count": 83,
   "id": "e5a4c620-39f8-48f3-8493-4118ea03cdc8",
   "metadata": {},
   "outputs": [],
   "source": [
    "import heapq\n",
    "\n",
    "def dijkstra_with_target_and_depth(self, source, end, depth_limit):\n",
    "    dist = [float('inf')] * self.V  # Distance to each node\n",
    "    seen = set()  # Visited nodes\n",
    "    heap = []  # Min-heap priority queue\n",
    "    depth_tracker = [0] * self.V  # Track the depth of each node\n",
    "    previous_nodes = [None] * self.V  # To reconstruct the path\n",
    "\n",
    "    dist[source] = 0\n",
    "    heapq.heappush(heap, (0, source, 0))  # (distance, node, depth)\n",
    "\n",
    "    while heap:\n",
    "        current_dist, node, current_depth = heapq.heappop(heap)\n",
    "\n",
    "        # If depth exceeds limit, skip this path\n",
    "        if current_depth > depth_limit:\n",
    "            continue\n",
    "\n",
    "        # If the target node is reached, stop\n",
    "        if node == end:\n",
    "            return dist[end], self.reconstruct_path(previous_nodes, source, end)\n",
    "\n",
    "        # Mark the node as seen\n",
    "        seen.add(node)\n",
    "\n",
    "        # Explore neighbors\n",
    "        for conn, weight in self.graph[node]:\n",
    "            if conn not in seen:\n",
    "                new_dist = current_dist + weight\n",
    "                new_depth = current_depth + 1\n",
    "\n",
    "                # Update if a shorter path is found\n",
    "                if new_dist < dist[conn]:\n",
    "                    dist[conn] = new_dist\n",
    "                    depth_tracker[conn] = new_depth\n",
    "                    previous_nodes[conn] = node\n",
    "                    heapq.heappush(heap, (new_dist, conn, new_depth))\n",
    "\n",
    "    # If the target node is not reachable within the depth limit\n",
    "    return float('inf'), None\n",
    "\n",
    "def reconstruct_path(self, previous_nodes, source, target):\n",
    "    path = []\n",
    "    current = target\n",
    "    while current is not None:\n",
    "        path.insert(0, current)\n",
    "        if current == source:\n",
    "            break\n",
    "        current = previous_nodes[current]\n",
    "    return path if path[0] == source else None\n"
   ]
  },
  {
   "cell_type": "code",
   "execution_count": null,
   "id": "2af83b86-d639-4fd4-91b3-98f4b0fee3dd",
   "metadata": {},
   "outputs": [],
   "source": []
  }
 ],
 "metadata": {
  "kernelspec": {
   "display_name": "Python 3 (ipykernel)",
   "language": "python",
   "name": "python3"
  },
  "language_info": {
   "codemirror_mode": {
    "name": "ipython",
    "version": 3
   },
   "file_extension": ".py",
   "mimetype": "text/x-python",
   "name": "python",
   "nbconvert_exporter": "python",
   "pygments_lexer": "ipython3",
   "version": "3.10.15"
  }
 },
 "nbformat": 4,
 "nbformat_minor": 5
}
