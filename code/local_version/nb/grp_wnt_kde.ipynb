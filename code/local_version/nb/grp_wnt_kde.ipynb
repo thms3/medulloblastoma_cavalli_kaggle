{
 "cells": [
  {
   "cell_type": "markdown",
   "id": "94fe2eb3-3a7d-474a-b34c-942ffb6641fa",
   "metadata": {},
   "source": [
    "# Group WNT - KDE"
   ]
  },
  {
   "cell_type": "code",
   "execution_count": 1,
   "id": "b646adea-8355-4fac-80f0-d1edb0df8f9e",
   "metadata": {},
   "outputs": [],
   "source": [
    "import pandas as pd\n",
    "import numpy as np\n",
    "\n",
    "import matplotlib.pyplot as plt\n",
    "import seaborn as sns\n",
    "import networkx as nx\n",
    "\n",
    "from sklearn.preprocessing import StandardScaler\n",
    "\n",
    "import scipy as sp\n",
    "#from scipy.signal import fftconvolve\n",
    "\n",
    "import numba \n",
    "\n",
    "from concurrent.futures import ProcessPoolExecutor, as_completed\n",
    "\n",
    "import warnings\n",
    "warnings.filterwarnings('ignore', category=DeprecationWarning)"
   ]
  },
  {
   "cell_type": "code",
   "execution_count": 2,
   "id": "a4589a88-74b2-4d91-a29b-1fedbaa9c642",
   "metadata": {},
   "outputs": [],
   "source": [
    "path_data = '/home/thomas/Documents/git/medulloblastoma_cavalli_kaggle/data/in/protein_coding/'\n",
    "path_metadata = path_data + 'GSE85217_Cavalli_subgroups_information_protein_coding.csv'\n",
    "path_expr_mat = path_data + 'GSE85217_M_exp_763_MB_SubtypeStudy_TaylorLab_protein_coding.csv'"
   ]
  },
  {
   "cell_type": "code",
   "execution_count": 3,
   "id": "a105852e-23d8-472c-b4aa-5aa330e65fd9",
   "metadata": {},
   "outputs": [],
   "source": [
    "metadata = pd.read_csv(path_metadata,index_col=0)\n",
    "expr_mat = pd.read_csv(path_expr_mat,index_col=0)"
   ]
  },
  {
   "cell_type": "code",
   "execution_count": 4,
   "id": "cbfbb6b9-0e00-4736-927e-38ae577a9dae",
   "metadata": {},
   "outputs": [],
   "source": [
    "# order using mean, median and std\n",
    "expr_mat_order_vars = pd.concat([expr_mat.mean(axis=0),expr_mat.median(axis=0),expr_mat.std(axis=0)],axis=1)\n",
    "expr_mat_order_vars.columns = ['mean','median','sd']\n",
    "expr_mat_order_vars.sort_values(by=['mean','median','sd'],inplace=True)\n",
    "\n",
    "expr_mat=expr_mat[expr_mat_order_vars.index.tolist()]"
   ]
  },
  {
   "cell_type": "code",
   "execution_count": 5,
   "id": "16ddf49b-9d98-4193-8b43-fb948d79d4c0",
   "metadata": {},
   "outputs": [],
   "source": [
    "# select WNT samples\n",
    "expr_mat_wnt = expr_mat.loc[metadata[metadata['Subgroup']=='WNT']['Study_ID'].to_list(),:]"
   ]
  },
  {
   "cell_type": "code",
   "execution_count": 6,
   "id": "c24002dc-88dd-402d-945f-78c3fac95e62",
   "metadata": {},
   "outputs": [],
   "source": [
    "# standardize the data \n",
    "sc = StandardScaler()\n",
    "expr_mat_wnt_sc = sc.fit_transform(expr_mat_wnt)"
   ]
  },
  {
   "cell_type": "code",
   "execution_count": 7,
   "id": "a83283a8-c222-4d6a-87eb-6e40d6280dda",
   "metadata": {},
   "outputs": [],
   "source": [
    "def fast_kde(x,y, gridsize=(300,300), epsilon=1e-10, extents=None, nocorrelation=True, weights=None, cov=None):\n",
    "\n",
    "    # SETUP\n",
    "    x = np.squeeze((np.asarray(x)))\n",
    "    y = np.squeeze((np.asarray(y)))\n",
    "\n",
    "    if x.size != y.size:\n",
    "        raise ValueError('Input x & y arrays must be the same size!')\n",
    "\n",
    "    n = x.size\n",
    "\n",
    "    if weights is None:\n",
    "        # Default: Weight all points equally\n",
    "        weights = np.ones(n)\n",
    "    else:\n",
    "        weights = np.squeeze(np.asarray(weights))\n",
    "        if weights.size != x.size:\n",
    "            raise ValueError('Input weights must be an array of the same size'\n",
    "                    ' as input x & y arrays!')\n",
    "\n",
    "    if extents is None:\n",
    "        xmin=x.min()\n",
    "        xmax=x.max()\n",
    "        ymin=y.min()\n",
    "        ymax=y.max()\n",
    "    else :\n",
    "        xmin, xmax, ymin, ymax = map(float, extents)\n",
    "\n",
    "    dx = (xmax - xmin) / (gridsize[0] - 1)\n",
    "    dy = (ymax - ymin) / (gridsize[1] - 1)\n",
    "\n",
    "    # PRELIMINARY CALCULATIONS\n",
    "\n",
    "    # First convert x & y over to pixel coordinates\n",
    "    # (Avoiding np.digitize due to excessive memory usage!)\n",
    "    \n",
    "    # Adjust x and y to pixel coordinates inplace\n",
    "    x_pixel = np.floor((x - xmin) / dx)\n",
    "    y_pixel = np.floor((y - ymin) / dy)\n",
    "\n",
    "    # Stack the results after adjustment\n",
    "    xyi = np.vstack((x_pixel, y_pixel))\n",
    "\n",
    "    # Next, make a 2D histogram of x & y\n",
    "    # Avoiding np.histogram2d due to excessive memory usage with many points\n",
    "    grid = sp.sparse.coo_matrix((weights, xyi), shape=(gridsize)).toarray()\n",
    "\n",
    "    if cov is None:\n",
    "        cov = np.cov(xyi)\n",
    "\n",
    "    if nocorrelation:\n",
    "        cov[1, 0] = 0\n",
    "        cov[0, 1] = 0\n",
    "\n",
    "    # Scaling factor for bandwidth\n",
    "    scotts_factor = np.power(n, -1.0 / 6) # For 2D\n",
    "\n",
    "    # MAKE THE GAUSSIAN KERNEL\n",
    "\n",
    "    # First, determine how big the kernel needs to be\n",
    "    std_devs = np.diag(np.sqrt(cov))\n",
    "    kern_nx, kern_ny = np.round(scotts_factor * 2 * np.pi * std_devs)\n",
    " \n",
    "    # Determine the bandwidth to use for the gaussian kernel\n",
    "    inv_cov = np.linalg.inv(cov * scotts_factor**2) \n",
    " \n",
    "    # x & y (pixel) coords of the kernel grid, with <x,y> = <0,0> in center\n",
    "    xx = np.arange(kern_nx) - kern_nx / 2.0\n",
    "    yy = np.arange(kern_ny) - kern_ny / 2.0\n",
    "    xx, yy = np.meshgrid(xx, yy)\n",
    " \n",
    "    # Then evaluate the gaussian function on the kernel grid\n",
    "    kernel = np.vstack((xx.flatten(), yy.flatten()))\n",
    "    kernel = np.dot(inv_cov, kernel) * kernel\n",
    "    kernel = np.sum(kernel, axis=0) / 2.0\n",
    "    kernel = np.exp(-kernel).reshape(np.int64(kern_ny), np.int64(kern_nx))\n",
    "\n",
    "    # THE KERNEL DENSITY ESTIMATE\n",
    "\n",
    "    # Convolve the gaussian kernel with the 2D histogram, producing a gaussian\n",
    "    # kernel density estimate on a regular grid\n",
    "    #grid = sp.signal.convolve2d(grid, kernel, mode='same', boundary='fill').T\n",
    "    grid = sp.signal.fftconvolve(grid, kernel, mode='same').T\n",
    "    \n",
    "    # Normalization factor to divide result by so that units are in the same\n",
    "    # units as scipy.stats.kde.gaussian_kde's output.  \n",
    "    #norm_factor = 2 * np.pi * cov * scotts_factor**2\n",
    "    #norm_factor = np.linalg.det(norm_factor)\n",
    "    #norm_factor = n * dx * dy * np.sqrt(norm_factor)\n",
    "    det = np.linalg.det(cov)\n",
    "    if det < 0 :\n",
    "        sqrt_det = -np.sqrt(det)\n",
    "    else :\n",
    "        sqrt_det = np.sqrt(det)\n",
    "    \n",
    "    norm_factor = n * dx * dy * (2 * np.pi) * scotts_factor**2 * sqrt_det\n",
    "\n",
    " \n",
    "    # Normalize the result\n",
    "    grid /= norm_factor\n",
    "\n",
    "    grid+=grid.min()\n",
    "\n",
    "    return grid,xyi #np.flipud(grid)\n",
    "\n",
    "    \n",
    "\n"
   ]
  },
  {
   "cell_type": "code",
   "execution_count": 8,
   "id": "2ee5de52-0aa1-403f-b20d-8e6a3e47bbb9",
   "metadata": {},
   "outputs": [],
   "source": [
    "toys_data_gene_1 = expr_mat_wnt_sc[:,4]\n",
    "toys_data_gene_2 = expr_mat_wnt_sc[:,0]"
   ]
  },
  {
   "cell_type": "code",
   "execution_count": 9,
   "id": "101dee5f-7f0c-4b18-bfd9-545ae227cd05",
   "metadata": {},
   "outputs": [
    {
     "name": "stdout",
     "output_type": "stream",
     "text": [
      "CPU times: user 36.3 ms, sys: 15 ms, total: 51.3 ms\n",
      "Wall time: 26.3 ms\n"
     ]
    }
   ],
   "source": [
    "%%time\n",
    "kde ,xyi =fast_kde(x=toys_data_gene_1,y=toys_data_gene_2)"
   ]
  },
  {
   "cell_type": "code",
   "execution_count": 10,
   "id": "f2b54bb0-ac0b-42ee-a591-25ac41668143",
   "metadata": {
    "scrolled": true
   },
   "outputs": [
    {
     "data": {
      "text/plain": [
       "0.1766610704418423"
      ]
     },
     "execution_count": 10,
     "metadata": {},
     "output_type": "execute_result"
    }
   ],
   "source": [
    "l_kde = [kde[i,j] for i,j in zip(*np.where(kde < 1))]\n",
    "np.mean(l_kde)\n",
    "max(l_kde)"
   ]
  },
  {
   "cell_type": "code",
   "execution_count": 11,
   "id": "c58a0510-ad80-49c6-9330-bc1f07e1c1c2",
   "metadata": {},
   "outputs": [],
   "source": [
    "def epsilon_marge_to_null(kde, epsilon=1e-10):\n",
    "\n",
    "    np.where((kde > -epsilon) | (kde < epsilon),epsilon,kde)\n",
    "    pass"
   ]
  },
  {
   "cell_type": "code",
   "execution_count": 12,
   "id": "427efc97-6b42-4c73-ba17-0655b76d4c1b",
   "metadata": {},
   "outputs": [
    {
     "data": {
      "text/plain": [
       "0.0692487003661484"
      ]
     },
     "execution_count": 12,
     "metadata": {},
     "output_type": "execute_result"
    }
   ],
   "source": [
    "kde[0,174]"
   ]
  },
  {
   "cell_type": "code",
   "execution_count": 13,
   "id": "20a9260b-2470-42f1-a648-f6933c33b6ed",
   "metadata": {},
   "outputs": [
    {
     "data": {
      "image/png": "[encoded data removed]",
      "text/plain": [
       "<Figure size 800x600 with 2 Axes>"
      ]
     },
     "metadata": {},
     "output_type": "display_data"
    }
   ],
   "source": [
    "plt.figure(figsize=(8, 6))\n",
    "plt.imshow(kde, origin='lower', cmap='viridis', aspect='auto')\n",
    "plt.plot(xyi[0,:],xyi[1,:],'x',c=\"white\")\n",
    "plt.colorbar(label='Density')\n",
    "plt.xlabel('X')\n",
    "plt.ylabel('Y')\n",
    "plt.title('2D KDE Heatmap')\n",
    "plt.show()"
   ]
  },
  {
   "cell_type": "code",
   "execution_count": 14,
   "id": "b4ee95c0-fc20-4d42-8e9e-fd1387e2dbe3",
   "metadata": {},
   "outputs": [],
   "source": [
    "@numba.jit(nopython=True)\n",
    "def shannon_mi_from_kde(kde,epsilon=1e-10,scale = True, normalize=True):\n",
    "\n",
    "    if scale :\n",
    "        kde /= np.sum(kde)\n",
    "\n",
    "    p_xy = np.where(kde < epsilon, epsilon, kde)\n",
    "\n",
    "    p_x = np.sum(p_xy, axis=0)\n",
    "    p_y = np.sum(p_xy, axis=1)\n",
    "\n",
    "    mi = np.sum(p_xy * np.log2(p_xy / (p_x * p_y)))\n",
    "\n",
    "    h_x = -np.sum(p_x * np.log2(p_x))\n",
    "    h_y = -np.sum(p_y * np.log2(p_y))\n",
    "\n",
    "    if normalize:\n",
    "        mi /= np.sqrt(h_x * h_y)\n",
    "    \n",
    "    return mi"
   ]
  },
  {
   "cell_type": "code",
   "execution_count": 15,
   "id": "ed760818-dda7-4f89-9d2e-9356947366d4",
   "metadata": {},
   "outputs": [
    {
     "name": "stdout",
     "output_type": "stream",
     "text": [
      "The slowest run took 233.76 times longer than the fastest. This could mean that an intermediate result is being cached.\n",
      "60.4 ms ± 143 ms per loop (mean ± std. dev. of 7 runs, 10 loops each)\n"
     ]
    }
   ],
   "source": [
    "%%timeit -n 10\n",
    "nmi = shannon_mi_from_kde(kde)\n",
    "nmi"
   ]
  },
  {
   "cell_type": "code",
   "execution_count": 16,
   "id": "4de7d91b-8799-4e4d-aaeb-e22aeb20bd7b",
   "metadata": {},
   "outputs": [],
   "source": [
    "def scale_xy_to_grid(x:np.ndarray,y:np.ndarray,gridsize=(200,200),extents=None):\n",
    "\n",
    "    if extents is None:\n",
    "        xmin = x.min(axis=0)\n",
    "        xmax = x.max(axis=0)\n",
    "        ymin = y.min(axis=0)\n",
    "        ymax = y.max(axis=0)\n",
    "    else : \n",
    "        xmin, xmax, ymin, ymax = map(np.ndarray, extents)\n",
    "\n",
    "    dx = (xmax - xmin) / (gridsize[0] - 1)\n",
    "    dy = (ymax - ymin) / (gridsize[1] - 1)\n",
    "\n",
    "    xmin = xmin.reshape(1,-1)\n",
    "    ymin = ymin.reshape(1,-1)\n",
    "\n",
    "    dx = dx.reshape(1,-1)\n",
    "    dy = dy.reshape(1,-1)\n",
    "\n",
    "    # Adjust x and y to pixel coordinates inplace\n",
    "    x_pix = np.floor((x - xmin) / dx)\n",
    "    y_pix = np.floor((y - ymin) / dy)\n",
    "    \n",
    "    return x_pix, y_pix, list(dx[0,:]), list(dx[0,:])"
   ]
  },
  {
   "cell_type": "code",
   "execution_count": 17,
   "id": "f56cf181-b5b0-4182-8524-a6a4a5059023",
   "metadata": {},
   "outputs": [],
   "source": [
    "#%timeit -n 100 scale_xy_to_grid(x=expr_mat_wnt_sc[:,0:100],y=expr_mat_wnt_sc[:,0:100])"
   ]
  },
  {
   "cell_type": "code",
   "execution_count": 18,
   "id": "df8aefba-6d97-4a6c-b062-6cbeb2387a81",
   "metadata": {},
   "outputs": [],
   "source": [
    "def cov_vars(x,y,nocorr=True):\n",
    "\n",
    "    x = np.asarray(x).T[:, np.newaxis, :]\n",
    "    y = np.asarray(y).T\n",
    "    n = x.shape[-1]\n",
    "\n",
    "\n",
    "\n",
    "    xm = x.mean(axis=-1, keepdims=True)\n",
    "    ym = y.mean(axis=-1, keepdims=True)\n",
    "\n",
    "    cov = np.sum((x - xm) * (y - ym), axis=-1)/(n-1)\n",
    "\n",
    "    std_x = np.std(x, ddof=1, axis=-1)\n",
    "    std_y = np.std(y, ddof=1, axis=-1)\n",
    "\n",
    "    if nocorr:\n",
    "        np.fill_diagonal(cov,0)\n",
    "        \n",
    "    return cov, std_x**2, std_y**2"
   ]
  },
  {
   "cell_type": "code",
   "execution_count": 19,
   "id": "f5c9bfa5-d2c9-45a5-a2be-dc6c319bd12d",
   "metadata": {},
   "outputs": [],
   "source": [
    "#cov, vars_x, vars_y = cov_vars(x=expr_mat_wnt_sc[:,0:100],y=expr_mat_wnt_sc[:,0:100])"
   ]
  },
  {
   "cell_type": "code",
   "execution_count": 20,
   "id": "60878f17-0d01-4eae-8cc7-ba9ffd5c24cd",
   "metadata": {},
   "outputs": [],
   "source": [
    "def set_cov(cov,vars):\n",
    "    cov = cov[[0,1],:][:,[0,1]]\n",
    "    cov[0,0]=vars[0]\n",
    "    cov[1,1]=vars[1]\n",
    "    return cov"
   ]
  },
  {
   "cell_type": "code",
   "execution_count": 21,
   "id": "f28e59ad-2a2f-42f4-87a6-fd3a1acbc422",
   "metadata": {},
   "outputs": [],
   "source": [
    "def get_kernel(scotts_factor,stds,inv_cov):\n",
    "\n",
    "    kern_nx, kern_ny = np.round(scotts_factor * 2 * np.pi * stds)\n",
    "\n",
    "    # x & y (pixel) coords of the kernel grid, with <x,y> = <0,0> in center\n",
    "    xx = np.arange(kern_nx) - kern_nx / 2.0\n",
    "    yy = np.arange(kern_ny) - kern_ny / 2.0\n",
    "    xx, yy = np.meshgrid(xx, yy)\n",
    "     \n",
    "    # Then evaluate the gaussian function on the kernel grid\n",
    "    kernel = np.vstack((xx.flatten(), yy.flatten()))\n",
    "\n",
    "    kernel = np.dot(inv_cov, kernel) * kernel\n",
    "    kernel = np.sum(kernel, axis=0) / 2.0\n",
    "    kernel = np.exp(-kernel).reshape(np.int64(kern_ny), np.int64(kern_nx))\n",
    "\n",
    "    return kernel"
   ]
  },
  {
   "cell_type": "code",
   "execution_count": 22,
   "id": "02d929f6-ced7-475e-9830-e144a14dc585",
   "metadata": {},
   "outputs": [],
   "source": [
    "def batch_mi(x,y,gridsize=(200,200),epsilon=1e-10,k=1):\n",
    "\n",
    "    x_pix, y_pix, dx, dy = scale_xy_to_grid(x,y)\n",
    "\n",
    "    n = x.shape[0]\n",
    "    weights = np.ones(n)\n",
    "\n",
    "    # Scaling factor for bandwidth\n",
    "    scotts_factor = np.power(n, -1.0 / 6) # For 2D\n",
    "\n",
    "    batch_mi_mat = np.zeros((x.shape[-1],y.shape[-1]))\n",
    "\n",
    "    cov_xy, vars_x, vars_y = cov_vars(x_pix,y_pix,nocorr=True)\n",
    "\n",
    "    for i,j in zip(*np.triu_indices(x.shape[1], k=k)):\n",
    "\n",
    "        xyi = np.vstack((x_pix[:,i],y_pix[:,j]))\n",
    "        grid = sp.sparse.coo_matrix((weights, xyi), shape=(gridsize)).toarray()\n",
    "\n",
    "        #vars = np.vstack((vars_x[i],vars_y[j]))\n",
    "\n",
    "\n",
    "        cov = set_cov(cov_xy,(vars_x[i],vars_y[j]))\n",
    "\n",
    "        stds = std_devs = np.sqrt(np.diag(cov))\n",
    "        \n",
    "\n",
    "        # Determine the bandwidth to use for the gaussian kernel\n",
    "        inv_cov = np.linalg.inv(cov * scotts_factor**2)\n",
    "            \n",
    "        kernel = get_kernel(scotts_factor,stds,inv_cov)\n",
    "    \n",
    "        grid = sp.signal.fftconvolve(grid, kernel, mode='same').T\n",
    "\n",
    "        det = np.linalg.det(cov)\n",
    "        if det < 0 :\n",
    "            sqrt_det = -np.sqrt(det)\n",
    "        else :\n",
    "            sqrt_det = np.sqrt(det)\n",
    "    \n",
    "        norm_factor = n * dx[i] * dy[j] * (2 * np.pi) * scotts_factor**2 * sqrt_det\n",
    "\n",
    "        # Normalize the result\n",
    "        grid /= norm_factor\n",
    "\n",
    "        grid+=abs(grid.min())\n",
    "    \n",
    "        batch_mi_mat[i,j]=shannon_mi_from_kde(grid,epsilon=1e-10,scale = True, normalize=True)\n",
    "\n",
    "    if k == 0 :\n",
    "        batch_mi_mat += batch_mi_mat.T\n",
    "        \n",
    "    return batch_mi_mat"
   ]
  },
  {
   "cell_type": "code",
   "execution_count": 23,
   "id": "80d85d0a-86e9-439e-8141-144bae5cc4c8",
   "metadata": {},
   "outputs": [],
   "source": [
    "#%%timeit -n 2\n",
    "#batch_mi_mat=batch_mi(x=expr_mat_wnt_sc[:,0:5],y=expr_mat_wnt_sc[:,0:5])\n",
    "#batch_mi_mat"
   ]
  },
  {
   "cell_type": "code",
   "execution_count": 24,
   "id": "fd5f5dda-fda0-42c8-b1c3-4293402a092c",
   "metadata": {},
   "outputs": [],
   "source": [
    "import threading\n",
    "import psutil\n",
    "import time\n",
    "\n",
    "class ResourceMonitor:\n",
    "    def __init__(self,t_sleep=1):\n",
    "        # Event to control when to stop the monitoring thread\n",
    "        self._stop_event = threading.Event()\n",
    "        self.monitor_thread = threading.Thread(target=self.monitor_resources, daemon=True)\n",
    "        self.t_sleep=t_sleep\n",
    "\n",
    "    def monitor_resources(self):\n",
    "        while not self._stop_event.is_set():\n",
    "            print(f\"RAM Usage: {psutil.virtual_memory().percent}% | CPU Usage: {psutil.cpu_percent()}%\")\n",
    "            time.sleep(self.t_sleep)\n",
    "\n",
    "    def start(self):\n",
    "        # Start the daemon thread\n",
    "        self.monitor_thread.start()\n",
    "\n",
    "    def stop(self):\n",
    "        # Signal the thread to stop and wait for it to finish\n",
    "        self._stop_event.set()\n",
    "        self.monitor_thread.join()  # Wait for the thread to terminate cleanly"
   ]
  },
  {
   "cell_type": "code",
   "execution_count": 25,
   "id": "41101c98-8d5a-4af6-91da-2e74674384ae",
   "metadata": {},
   "outputs": [],
   "source": [
    "def chunkify_expr_mat(expr_mat,start=0,step=10):\n",
    "    \n",
    "    chunk_points = list(range(start,expr_mat.shape[1],step))+[expr_mat.shape[1]]\n",
    "    \n",
    "    for i in range(len(chunk_points)-1):\n",
    "        yield chunk_points[i],chunk_points[i+1]"
   ]
  },
  {
   "cell_type": "code",
   "execution_count": 26,
   "id": "e866ae5f-332a-4984-924b-86445c1d67df",
   "metadata": {},
   "outputs": [],
   "source": [
    "def all_chunks(expr_mat,start=0,step=5):\n",
    "    \n",
    "    chunks = [chunk for chunk in chunkify_expr_mat(expr_mat=expr_mat,start=start,step=step)]\n",
    "\n",
    "    for i,j in zip(*np.triu_indices(n=len(chunks))):\n",
    "        if chunks[i]==chunks[j]:\n",
    "            k = 1\n",
    "        else:\n",
    "            k = 0\n",
    "   \n",
    "        yield chunks[i], chunks[j], k\n"
   ]
  },
  {
   "cell_type": "code",
   "execution_count": 41,
   "id": "8b35dce8-4402-44a7-adb4-bcd04cd52ecc",
   "metadata": {},
   "outputs": [
    {
     "name": "stdout",
     "output_type": "stream",
     "text": [
      "CPU times: user 36.9 s, sys: 15.7 s, total: 52.6 s\n",
      "Wall time: 26.3 s\n"
     ]
    }
   ],
   "source": [
    "%%time\n",
    "mi_array=np.zeros((150,150))\n",
    "for chunk1, chunk2, k in all_chunks(expr_mat=expr_mat_wnt_sc[:,0:150],step=5):\n",
    "    chunk1_array = expr_mat_wnt_sc[:,chunk1[0]:chunk1[1]]\n",
    "    chunk1_array = expr_mat_wnt_sc[:,chunk2[0]:chunk2[1]]\n",
    "    mi_array[chunk1[0]:chunk1[1],chunk2[0]:chunk2[1]]=batch_mi(x=chunk1_array,y=chunk1_array,gridsize=(200,200),epsilon=1e-10,k=k)   "
   ]
  },
  {
   "cell_type": "code",
   "execution_count": 28,
   "id": "474354cf-3cce-4e41-96f0-6d664025b261",
   "metadata": {},
   "outputs": [
    {
     "data": {
      "text/plain": [
       "array([[ 0.        ,  0.2502673 ,  0.02261702, ...,  0.01739637,\n",
       "         0.00880783,  0.0344787 ],\n",
       "       [ 0.        ,  0.        ,  0.03040382, ...,  0.02197841,\n",
       "        -0.00400111,  0.04831146],\n",
       "       [ 0.        ,  0.        ,  0.        , ...,  0.17113452,\n",
       "         0.00686185,  0.01915308],\n",
       "       ...,\n",
       "       [ 0.        ,  0.        ,  0.        , ...,  0.        ,\n",
       "         0.00686185,  0.01915308],\n",
       "       [ 0.        ,  0.        ,  0.        , ...,  0.        ,\n",
       "         0.        ,  0.02949004],\n",
       "       [ 0.        ,  0.        ,  0.        , ...,  0.        ,\n",
       "         0.        ,  0.        ]])"
      ]
     },
     "execution_count": 28,
     "metadata": {},
     "output_type": "execute_result"
    }
   ],
   "source": [
    "mi_array"
   ]
  },
  {
   "cell_type": "code",
   "execution_count": 35,
   "id": "58336c87-e31b-40c9-b582-1938db12f3bc",
   "metadata": {},
   "outputs": [],
   "source": [
    "def pool_compute_mi_mat(expr_mat,step=5,epsilon=1e-10,gridsize=(200,200),t_spleep=1):\n",
    "\n",
    "    adj_mat = np.zeros((expr_mat.shape[1],expr_mat.shape[1]))\n",
    "\n",
    "    monitor = ResourceMonitor(t_spleep)\n",
    "    monitor.start()\n",
    "\n",
    "    results_dict={}\n",
    "    with ProcessPoolExecutor(max_workers=8) as executor:\n",
    "        futures = {executor.submit(batch_mi,expr_mat[:,chunk1[0]:chunk1[1]],expr_mat[:,chunk2[0]:chunk2[1]],gridsize,epsilon,k):np.array([chunk1,chunk2]) for chunk1, chunk2, k in all_chunks(expr_mat=expr_mat,step=step)}\n",
    "\n",
    "        for future in as_completed(futures):\n",
    "            chunks = futures[future]\n",
    "\n",
    "            try:\n",
    "                adj_mat[chunks[0][0]:chunks[0][1],chunks[1][0]:chunks[1][1]]=future.result()\n",
    "            except Exception as e:\n",
    "                print(f\"Error in processing {chunks}: {e}\")\n",
    "\n",
    "    monitor.stop()\n",
    "    return adj_mat"
   ]
  },
  {
   "cell_type": "code",
   "execution_count": 42,
   "id": "e35249de-de4f-40ae-920b-b095ca35f33b",
   "metadata": {},
   "outputs": [
    {
     "name": "stdout",
     "output_type": "stream",
     "text": [
      "RAM Usage: 55.1% | CPU Usage: 9.3%\n",
      "CPU times: user 165 ms, sys: 164 ms, total: 329 ms\n",
      "Wall time: 10 s\n"
     ]
    }
   ],
   "source": [
    "%%time\n",
    "adj_mi_mat=pool_compute_mi_mat(expr_mat=expr_mat_wnt_sc[:,0:100],t_spleep=10)"
   ]
  },
  {
   "cell_type": "code",
   "execution_count": null,
   "id": "dd0cad67-23dd-404a-be9d-8df143551c2d",
   "metadata": {},
   "outputs": [],
   "source": []
  }
 ],
 "metadata": {
  "kernelspec": {
   "display_name": "Python 3 (ipykernel)",
   "language": "python",
   "name": "python3"
  },
  "language_info": {
   "codemirror_mode": {
    "name": "ipython",
    "version": 3
   },
   "file_extension": ".py",
   "mimetype": "text/x-python",
   "name": "python",
   "nbconvert_exporter": "python",
   "pygments_lexer": "ipython3",
   "version": "3.10.15"
  }
 },
 "nbformat": 4,
 "nbformat_minor": 5
}
