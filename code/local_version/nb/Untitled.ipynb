{
 "cells": [
  {
   "cell_type": "code",
   "execution_count": 1,
   "id": "c848d788-0625-4510-9796-edd5393900ec",
   "metadata": {},
   "outputs": [],
   "source": [
    "import heapq\n",
    "\n",
    "def dijkstra_with_target_and_depth(self, source, end, depth_limit):\n",
    "    dist = [float('inf')] * self.V  # Distance to each node\n",
    "    seen = set()  # Visited nodes\n",
    "    heap = []  # Min-heap priority queue\n",
    "    depth_tracker = [0] * self.V  # Track the depth of each node\n",
    "    previous_nodes = [None] * self.V  # To reconstruct the path\n",
    "\n",
    "    dist[source] = 0\n",
    "    heapq.heappush(heap, (0, source, 0))  # (distance, node, depth)\n",
    "\n",
    "    while heap:\n",
    "        current_dist, node, current_depth = heapq.heappop(heap)\n",
    "\n",
    "        # If depth exceeds limit, skip this path\n",
    "        if current_depth > depth_limit:\n",
    "            continue\n",
    "\n",
    "        # If the target node is reached, stop\n",
    "        if node == end:\n",
    "            return dist[end], self.reconstruct_path(previous_nodes, source, end)\n",
    "\n",
    "        # Mark the node as seen\n",
    "        seen.add(node)\n",
    "\n",
    "        # Explore neighbors\n",
    "        for conn, weight in self.graph[node]:\n",
    "            if conn not in seen:\n",
    "                new_dist = current_dist + weight\n",
    "                new_depth = current_depth + 1\n",
    "\n",
    "                # Update if a shorter path is found\n",
    "                if new_dist < dist[conn]:\n",
    "                    dist[conn] = new_dist\n",
    "                    depth_tracker[conn] = new_depth\n",
    "                    previous_nodes[conn] = node\n",
    "                    heapq.heappush(heap, (new_dist, conn, new_depth))\n",
    "\n",
    "    # If the target node is not reachable within the depth limit\n",
    "    return float('inf'), None\n",
    "\n",
    "def reconstruct_path(self, previous_nodes, source, target):\n",
    "    path = []\n",
    "    current = target\n",
    "    while current is not None:\n",
    "        path.insert(0, current)\n",
    "        if current == source:\n",
    "            break\n",
    "        current = previous_nodes[current]\n",
    "    return path if path[0] == source else None\n"
   ]
  },
  {
   "cell_type": "code",
   "execution_count": null,
   "id": "d71def77-f39a-49bd-b71b-07ebcf176458",
   "metadata": {},
   "outputs": [],
   "source": []
  }
 ],
 "metadata": {
  "kernelspec": {
   "display_name": "Python 3 (ipykernel)",
   "language": "python",
   "name": "python3"
  },
  "language_info": {
   "codemirror_mode": {
    "name": "ipython",
    "version": 3
   },
   "file_extension": ".py",
   "mimetype": "text/x-python",
   "name": "python",
   "nbconvert_exporter": "python",
   "pygments_lexer": "ipython3",
   "version": "3.10.15"
  }
 },
 "nbformat": 4,
 "nbformat_minor": 5
}
