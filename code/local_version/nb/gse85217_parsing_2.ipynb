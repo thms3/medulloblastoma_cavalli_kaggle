{
 "cells": [
  {
   "cell_type": "markdown",
   "id": "d96852cb-532a-46c3-a6c9-8bd48a8e8c6a",
   "metadata": {},
   "source": [
    "# [GSE85217] parsing 2"
   ]
  },
  {
   "cell_type": "code",
   "execution_count": 1,
   "id": "48b3cc21-c81c-413e-bf50-d675efb102f2",
   "metadata": {},
   "outputs": [],
   "source": [
    "import numpy as np # linear algebra\n",
    "import pandas as pd # data processing, CSV file I/O (e.g. pd.read_csv)\n",
    "from collections import OrderedDict\n",
    "import os\n",
    "\n",
    "import sys\n",
    "sys.path.insert(1,'/home/thomas/Documents/git/medulloblastoma_cavalli_kaggle/code/local_version/fun')\n",
    "\n",
    "from parser import Data"
   ]
  },
  {
   "cell_type": "code",
   "execution_count": 2,
   "id": "34ac046b-907c-41f4-a352-170c2b0b3a1c",
   "metadata": {},
   "outputs": [],
   "source": [
    "path_data=\"/home/thomas/Documents/git/medulloblastoma_cavalli_kaggle/data/raw/\"\n",
    "path_exp_mat= path_data + \"GSE85217_M_exp_763_MB_SubtypeStudy_TaylorLab.txt\"\n",
    "path_metadata = path_data + \"GSE85217_Cavalli_subgroups_information.csv\"\n",
    "path_refs=\"/home/thomas/Documents/git/medulloblastoma_cavalli_kaggle/data/refs/\"\n",
    "path_annotation= path_refs + \"annotationhub.csv\""
   ]
  },
  {
   "cell_type": "code",
   "execution_count": 3,
   "id": "b282d4bb-7c05-4bd6-82fd-3cad96f57614",
   "metadata": {},
   "outputs": [],
   "source": [
    "data = Data()\n",
    "exp_mat = data.add_exp_mat(path_exp_mat=path_exp_mat, inplace = True)\n",
    "metadata = data.add_meta(path_meta=path_metadata, inplace=True)"
   ]
  },
  {
   "cell_type": "code",
   "execution_count": 4,
   "id": "ee429705-8451-4f46-a6c7-188933f80f24",
   "metadata": {},
   "outputs": [],
   "source": [
    "ah = pd.read_csv(path_annotation)\n",
    "ah_protein_coding=ah[ah[\"gene_biotype\"]==\"protein_coding\"]"
   ]
  },
  {
   "cell_type": "code",
   "execution_count": 5,
   "id": "8ae98649-52d2-497f-ace3-8b248bd55896",
   "metadata": {},
   "outputs": [],
   "source": [
    "protein_coding_list=list(set(exp_mat[\"HGNC_symbol_from_ensemblv77\"]).intersection(set(ah_protein_coding[\"gene_name\"])))\n",
    "exp_mat=exp_mat[exp_mat[\"HGNC_symbol_from_ensemblv77\"].isin(protein_coding_list)]\n",
    "exp_mat.dropna(subset=[\"HGNC_symbol_from_ensemblv77\"], how='any', inplace=True)"
   ]
  },
  {
   "cell_type": "code",
   "execution_count": 6,
   "id": "126cd804-03db-47ee-9977-02b9f20353f4",
   "metadata": {},
   "outputs": [],
   "source": [
    "exp_mat.set_index(\"HGNC_symbol_from_ensemblv77\",inplace=True)\n",
    "samples = metadata[\"Study_ID\"].tolist()\n",
    "metadata.index = samples\n",
    "exp_mat = exp_mat[samples]"
   ]
  },
  {
   "cell_type": "code",
   "execution_count": 7,
   "id": "7c955012-11ff-4b4e-be12-7c2d268f386b",
   "metadata": {},
   "outputs": [],
   "source": [
    "metadata.to_csv(\"/home/thomas/Documents/git/medulloblastoma_cavalli_kaggle/data/in/protein_coding/GSE85217_Cavalli_subgroups_information_protein_coding.csv\")\n",
    "exp_mat = exp_mat.T"
   ]
  },
  {
   "cell_type": "code",
   "execution_count": 8,
   "id": "4ada8545-312e-4774-a706-915aa7615792",
   "metadata": {},
   "outputs": [],
   "source": [
    "exp_mat.to_csv(\"/home/thomas/Documents/git/medulloblastoma_cavalli_kaggle/data/in/protein_coding/GSE85217_M_exp_763_MB_SubtypeStudy_TaylorLab_protein_coding.csv\")"
   ]
  },
  {
   "cell_type": "code",
   "execution_count": null,
   "id": "1fbac72f-5532-4ddf-a60e-c8cc93c8ef1a",
   "metadata": {},
   "outputs": [],
   "source": []
  }
 ],
 "metadata": {
  "kernelspec": {
   "display_name": "Python 3 (ipykernel)",
   "language": "python",
   "name": "python3"
  },
  "language_info": {
   "codemirror_mode": {
    "name": "ipython",
    "version": 3
   },
   "file_extension": ".py",
   "mimetype": "text/x-python",
   "name": "python",
   "nbconvert_exporter": "python",
   "pygments_lexer": "ipython3",
   "version": "3.10.15"
  }
 },
 "nbformat": 4,
 "nbformat_minor": 5
}
