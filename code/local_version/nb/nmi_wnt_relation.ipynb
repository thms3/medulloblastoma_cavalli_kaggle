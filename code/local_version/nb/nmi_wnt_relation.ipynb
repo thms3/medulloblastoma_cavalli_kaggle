{
 "cells": [
  {
   "cell_type": "markdown",
   "id": "82ce64a3-6d98-4d24-a7d4-64715017efd3",
   "metadata": {},
   "source": [
    "# Non linear relation"
   ]
  },
  {
   "cell_type": "code",
   "execution_count": 5,
   "id": "311a3f6b-0225-43f8-abfe-dca9cc75dc3e",
   "metadata": {},
   "outputs": [],
   "source": [
    "import pandas as pd\n",
    "import numpy as np\n",
    "import matplotlib.pyplot as plt\n",
    "from collections import defaultdict\n",
    "import seaborn as sns\n",
    "import networkx as nx\n",
    "\n",
    "import heapq\n",
    "\n",
    "import scipy as sp\n",
    "from sklearn.preprocessing import StandardScaler\n",
    "from scipy.special import betainc\n",
    "\n",
    "import numba \n",
    "\n",
    "from concurrent.futures import ProcessPoolExecutor, as_completed\n",
    "\n",
    "import warnings\n",
    "warnings.filterwarnings('ignore', category=DeprecationWarning)"
   ]
  },
  {
   "cell_type": "code",
   "execution_count": 6,
   "id": "b10b34fb-41ba-4acf-b8cb-0a503245b4c1",
   "metadata": {},
   "outputs": [],
   "source": [
    "test = False"
   ]
  },
  {
   "cell_type": "code",
   "execution_count": 7,
   "id": "09c2b2bd-7f64-408e-b596-a91cd74fd203",
   "metadata": {},
   "outputs": [],
   "source": [
    "path_cross_tt = '/home/thomas/Documents/git/medulloblastoma_cavalli_kaggle/data/dge/cross_tt_genes_wnt_vs_all.csv'\n",
    "path_adj_mat_pearson_wnt = '/home/thomas/Documents/git/medulloblastoma_cavalli_kaggle/data/network/adj_mat_pearson_wnt_target_mannwhitneyu.csv'\n",
    "path_adj_mat_pearson = '/home/thomas/Documents/git/medulloblastoma_cavalli_kaggle/data/network/adj_mat_pearson.csv'\n",
    "path_expr_mat='/home/thomas/Documents/git/medulloblastoma_cavalli_kaggle/data/in/protein_coding/GSE85217_M_exp_763_MB_SubtypeStudy_TaylorLab_protein_coding.csv'\n",
    "path_metadata = '/home/thomas/Documents/git/medulloblastoma_cavalli_kaggle/data/in/protein_coding/GSE85217_Cavalli_subgroups_information_protein_coding.csv'"
   ]
  },
  {
   "cell_type": "code",
   "execution_count": 8,
   "id": "3530f2d1-5b8c-406d-96a5-520bfac12f7d",
   "metadata": {},
   "outputs": [],
   "source": [
    "adj_mat_pearson_wnt = pd.read_csv(path_adj_mat_pearson_wnt,index_col=0)\n",
    "cross_tt=pd.read_csv(path_cross_tt,index_col=0)\n",
    "expr_mat = pd.read_csv(path_expr_mat,index_col=0)\n",
    "metadata = pd.read_csv(path_metadata,index_col=0)"
   ]
  },
  {
   "cell_type": "code",
   "execution_count": 9,
   "id": "664e9a65-83b6-44f3-ba5f-057c1e03bbe4",
   "metadata": {},
   "outputs": [],
   "source": [
    "expr_mat_wnt = expr_mat.loc[metadata[metadata['Subgroup']=='WNT']['Study_ID'].to_list(),:]"
   ]
  },
  {
   "cell_type": "code",
   "execution_count": 10,
   "id": "5e5062b0-ad05-43aa-9b18-558a7e4ae08f",
   "metadata": {},
   "outputs": [],
   "source": [
    "genes_corr_mat = adj_mat_pearson_wnt.columns.tolist()\n",
    "genes_wnt_dge=cross_tt[cross_tt['all']==1].index.tolist()"
   ]
  },
  {
   "cell_type": "code",
   "execution_count": 11,
   "id": "31808ff1-ffe5-4c8a-8792-ab4f0d6b908c",
   "metadata": {},
   "outputs": [],
   "source": [
    "expr_mat_wnt_genes = expr_mat_wnt[list(set(genes_wnt_dge + genes_corr_mat))]"
   ]
  },
  {
   "cell_type": "code",
   "execution_count": 12,
   "id": "7dce271b-526c-4a62-a279-7cfece162c9a",
   "metadata": {},
   "outputs": [],
   "source": [
    "# standardize the data \n",
    "sc = StandardScaler()\n",
    "expr_mat_wnt_sc = sc.fit_transform(expr_mat_wnt_genes)"
   ]
  },
  {
   "cell_type": "code",
   "execution_count": 13,
   "id": "098c01ea-c6ce-4b5e-843c-6c1a9f7de897",
   "metadata": {},
   "outputs": [],
   "source": [
    "def trimmed_mean(expr_mat,threshold=0.05):\n",
    "\n",
    "    t_index=int(np.floor(expr_mat.shape[0]*(threshold/2)))\n",
    "\n",
    "    trim_expr_mat=np.zeros((expr_mat.shape[0]-(2*t_index),expr_mat.shape[1]))\n",
    "\n",
    "    for i in range(expr_mat.shape[1]):\n",
    "        trim_expr_mat[:,i]=expr_mat[:,i][t_index:-t_index]\n",
    "\n",
    "    return trim_expr_mat"
   ]
  },
  {
   "cell_type": "code",
   "execution_count": 14,
   "id": "f3098e96-8ba9-4d8d-a4c7-77306f2a8e4d",
   "metadata": {},
   "outputs": [],
   "source": [
    "expr_mat_wnt_trim=trimmed_mean(expr_mat_wnt_sc)"
   ]
  },
  {
   "cell_type": "code",
   "execution_count": 15,
   "id": "2b07d799-7ae9-4a52-a07d-eff6cba6aec6",
   "metadata": {},
   "outputs": [],
   "source": [
    "import threading\n",
    "import psutil\n",
    "import time\n",
    "\n",
    "class ResourceMonitor:\n",
    "    def __init__(self,t_sleep=1):\n",
    "        # Event to control when to stop the monitoring thread\n",
    "        self._stop_event = threading.Event()\n",
    "        self.monitor_thread = threading.Thread(target=self.monitor_resources, daemon=True)\n",
    "        self.t_sleep=t_sleep\n",
    "\n",
    "    def monitor_resources(self):\n",
    "        while not self._stop_event.is_set():\n",
    "            print(f\"RAM Usage: {psutil.virtual_memory().percent}% | CPU Usage: {psutil.cpu_percent()}%\")\n",
    "            time.sleep(self.t_sleep)\n",
    "\n",
    "    def start(self):\n",
    "        # Start the daemon thread\n",
    "        self.monitor_thread.start()\n",
    "\n",
    "    def stop(self):\n",
    "        # Signal the thread to stop and wait for it to finish\n",
    "        self._stop_event.set()\n",
    "        self.monitor_thread.join()  # Wait for the thread to terminate cleanly"
   ]
  },
  {
   "cell_type": "code",
   "execution_count": 16,
   "id": "23a3802b-9795-457b-92c7-71534ee6f305",
   "metadata": {},
   "outputs": [],
   "source": [
    "def scale_xy_to_grid(x:np.ndarray,y:np.ndarray,gridsize=(200,200),extents=None):\n",
    "\n",
    "    if extents is None:\n",
    "        xmin = x.min(axis=0)\n",
    "        xmax = x.max(axis=0)\n",
    "        ymin = y.min(axis=0)\n",
    "        ymax = y.max(axis=0)\n",
    "    else : \n",
    "        xmin, xmax, ymin, ymax = map(np.ndarray, extents)\n",
    "\n",
    "    dx = (xmax - xmin) / (gridsize[0] - 1)\n",
    "    dy = (ymax - ymin) / (gridsize[1] - 1)\n",
    "\n",
    "    xmin = xmin.reshape(1,-1)\n",
    "    ymin = ymin.reshape(1,-1)\n",
    "\n",
    "    dx = dx.reshape(1,-1)\n",
    "    dy = dy.reshape(1,-1)\n",
    "\n",
    "    # Adjust x and y to pixel coordinates inplace\n",
    "    x_pix = np.floor((x - xmin) / dx)\n",
    "    y_pix = np.floor((y - ymin) / dy)\n",
    "    \n",
    "    return x_pix, y_pix, list(dx[0,:]), list(dx[0,:])"
   ]
  },
  {
   "cell_type": "code",
   "execution_count": 17,
   "id": "42848977-cb88-4349-b80d-25abb85b1d51",
   "metadata": {},
   "outputs": [],
   "source": [
    "def cov_vars(x,y,nocorr=True):\n",
    "\n",
    "    x = np.asarray(x).T[:, np.newaxis, :]\n",
    "    y = np.asarray(y).T\n",
    "    n = x.shape[-1]\n",
    "\n",
    "\n",
    "\n",
    "    xm = x.mean(axis=-1, keepdims=True)\n",
    "    ym = y.mean(axis=-1, keepdims=True)\n",
    "\n",
    "    cov = np.sum((x - xm) * (y - ym), axis=-1)/(n-1)\n",
    "\n",
    "    std_x = np.std(x, ddof=1, axis=-1)\n",
    "    std_y = np.std(y, ddof=1, axis=-1)\n",
    "\n",
    "    if nocorr:\n",
    "        np.fill_diagonal(cov,0)\n",
    "        \n",
    "    return cov, std_x**2, std_y**2"
   ]
  },
  {
   "cell_type": "code",
   "execution_count": 18,
   "id": "56205f99-e28e-4f7e-8240-20cbeca8d6e6",
   "metadata": {},
   "outputs": [],
   "source": [
    "def chunkify_expr_mat(expr_mat,start=0,step=10):\n",
    "    \n",
    "    chunk_points = list(range(start,expr_mat.shape[1],step))+[expr_mat.shape[1]]\n",
    "    \n",
    "    for i in range(len(chunk_points)-1):\n",
    "        yield chunk_points[i],chunk_points[i+1]"
   ]
  },
  {
   "cell_type": "code",
   "execution_count": 19,
   "id": "ec28ecc0-7cf8-44f5-87ca-0bff97154822",
   "metadata": {},
   "outputs": [],
   "source": [
    "def all_chunks(expr_mat,start=0,step=5):\n",
    "    \n",
    "    chunks = [chunk for chunk in chunkify_expr_mat(expr_mat=expr_mat,start=start,step=step)]\n",
    "\n",
    "    for i,j in zip(*np.triu_indices(n=len(chunks))):\n",
    "        if chunks[i]==chunks[j]:\n",
    "            k = 1\n",
    "        else:\n",
    "            k = 0\n",
    "   \n",
    "        yield chunks[i], chunks[j], k\n"
   ]
  },
  {
   "cell_type": "code",
   "execution_count": 20,
   "id": "346b1c0e-93bf-44f2-96e8-d2f00e30374b",
   "metadata": {},
   "outputs": [],
   "source": [
    "def set_cov(cov,vars):\n",
    "    cov = cov[[0,1],:][:,[0,1]]\n",
    "    cov[0,0]=vars[0]\n",
    "    cov[1,1]=vars[1]\n",
    "    return cov"
   ]
  },
  {
   "cell_type": "code",
   "execution_count": 21,
   "id": "6b449341-b341-43f4-a015-59f178a5ef7f",
   "metadata": {},
   "outputs": [],
   "source": [
    "def get_kernel(scotts_factor,stds,inv_cov):\n",
    "\n",
    "    kern_nx, kern_ny = np.round(scotts_factor * 2 * np.pi * stds)\n",
    "\n",
    "    # x & y (pixel) coords of the kernel grid, with <x,y> = <0,0> in center\n",
    "    xx = np.arange(kern_nx) - kern_nx / 2.0\n",
    "    yy = np.arange(kern_ny) - kern_ny / 2.0\n",
    "    xx, yy = np.meshgrid(xx, yy)\n",
    "     \n",
    "    # Then evaluate the gaussian function on the kernel grid\n",
    "    kernel = np.vstack((xx.flatten(), yy.flatten()))\n",
    "\n",
    "    kernel = np.dot(inv_cov, kernel) * kernel\n",
    "    kernel = np.sum(kernel, axis=0) / 2.0\n",
    "    kernel = np.exp(-kernel).reshape(np.int64(kern_ny), np.int64(kern_nx))\n",
    "\n",
    "    return kernel"
   ]
  },
  {
   "cell_type": "code",
   "execution_count": 22,
   "id": "7eeeb331-93de-4b35-810b-2fd7cb96f917",
   "metadata": {},
   "outputs": [],
   "source": [
    "def batch_mi(x,y,gridsize=(200,200),epsilon=1e-10,k=1):\n",
    "\n",
    "    x_pix, y_pix, dx, dy = scale_xy_to_grid(x,y)\n",
    "\n",
    "    n = x.shape[0]\n",
    "    weights = np.ones(n)\n",
    "\n",
    "    # Scaling factor for bandwidth\n",
    "    scotts_factor = np.power(n, -1.0 / 6) # For 2D\n",
    "\n",
    "    batch_mi_mat = np.zeros((x.shape[-1],y.shape[-1]))\n",
    "\n",
    "    cov_xy, vars_x, vars_y = cov_vars(x_pix,y_pix,nocorr=True)\n",
    "\n",
    "    for i,j in zip(*np.triu_indices(x.shape[1], k=k)):\n",
    "\n",
    "        xyi = np.vstack((x_pix[:,i],y_pix[:,j]))\n",
    "        grid = sp.sparse.coo_matrix((weights, xyi), shape=(gridsize)).toarray()\n",
    "\n",
    "        cov = set_cov(cov_xy,(vars_x[i],vars_y[j]))\n",
    "\n",
    "        stds = std_devs = np.sqrt(np.diag(cov))\n",
    "        \n",
    "\n",
    "        # Determine the bandwidth to use for the gaussian kernel\n",
    "        inv_cov = np.linalg.inv(cov * scotts_factor**2)\n",
    "            \n",
    "        kernel = get_kernel(scotts_factor,stds,inv_cov)\n",
    "    \n",
    "        grid = sp.signal.fftconvolve(grid, kernel, mode='same').T\n",
    "\n",
    "        det = np.linalg.det(cov)\n",
    "        if det < 0 :\n",
    "            sqrt_det = -np.sqrt(det)\n",
    "        else :\n",
    "            sqrt_det = np.sqrt(det)\n",
    "    \n",
    "        norm_factor = n * dx[i] * dy[j] * (2 * np.pi) * scotts_factor**2 * sqrt_det\n",
    "\n",
    "        # Normalize the result\n",
    "        grid /= norm_factor\n",
    "\n",
    "        grid+=abs(grid.min())\n",
    "    \n",
    "        batch_mi_mat[i,j]=shannon_mi_from_kde(grid,epsilon=1e-10, normalize=True)\n",
    "\n",
    "    if k == 0 :\n",
    "        batch_mi_mat += batch_mi_mat.T\n",
    "        \n",
    "    return batch_mi_mat"
   ]
  },
  {
   "cell_type": "code",
   "execution_count": 23,
   "id": "d13d848f-a343-477a-922b-fc07fa84eff2",
   "metadata": {},
   "outputs": [],
   "source": [
    "def pool_compute_mi_mat(expr_mat,step=5,epsilon=1e-10,gridsize=(200,200),t_spleep=1):\n",
    "\n",
    "    adj_mat = np.zeros((expr_mat.shape[1],expr_mat.shape[1]))\n",
    "\n",
    "    monitor = ResourceMonitor(t_spleep)\n",
    "    monitor.start()\n",
    "\n",
    "    results_dict={}\n",
    "    with ProcessPoolExecutor(max_workers=8) as executor:\n",
    "        futures = {executor.submit(batch_mi,expr_mat[:,chunk1[0]:chunk1[1]],expr_mat[:,chunk2[0]:chunk2[1]],gridsize,epsilon,k):np.array([chunk1,chunk2]) for chunk1, chunk2, k in all_chunks(expr_mat=expr_mat,step=step)}\n",
    "\n",
    "        for future in as_completed(futures):\n",
    "            chunks = futures[future]\n",
    "\n",
    "            try:\n",
    "                adj_mat[chunks[0][0]:chunks[0][1],chunks[1][0]:chunks[1][1]]=future.result()\n",
    "            except Exception as e:\n",
    "                print(f\"Error in processing {chunks}: {e}\")\n",
    "\n",
    "    monitor.stop()\n",
    "    return adj_mat"
   ]
  },
  {
   "cell_type": "code",
   "execution_count": 24,
   "id": "39e0dcda-22b8-4107-bcb7-2803799f8152",
   "metadata": {},
   "outputs": [],
   "source": [
    "def fast_kde(x,y, gridsize=(200,200), density = True, extents=None, nocorrelation=True, weights=None, cov=None):\n",
    "\n",
    "    # SETUP\n",
    "    x = np.squeeze((np.asarray(x)))\n",
    "    y = np.squeeze((np.asarray(y)))\n",
    "\n",
    "    if x.size != y.size:\n",
    "        raise ValueError('Input x & y arrays must be the same size!')\n",
    "\n",
    "    n = x.size\n",
    "\n",
    "    if weights is None:\n",
    "        # Default: Weight all points equally\n",
    "        weights = np.ones(n)\n",
    "    else:\n",
    "        weights = np.squeeze(np.asarray(weights))\n",
    "        if weights.size != x.size:\n",
    "            raise ValueError('Input weights must be an array of the same size'\n",
    "                    ' as input x & y arrays!')\n",
    "\n",
    "    if extents is None:\n",
    "        xmin=x.min()\n",
    "        xmax=x.max()\n",
    "        ymin=y.min()\n",
    "        ymax=y.max()\n",
    "    else :\n",
    "        xmin, xmax, ymin, ymax = map(float, extents)\n",
    "\n",
    "    dx = (xmax - xmin) / (gridsize[0] - 1)\n",
    "    dy = (ymax - ymin) / (gridsize[1] - 1)\n",
    "\n",
    "    # PRELIMINARY CALCULATIONS\n",
    "\n",
    "    # First convert x & y over to pixel coordinates\n",
    "    # (Avoiding np.digitize due to excessive memory usage!)\n",
    "    \n",
    "    # Adjust x and y to pixel coordinates inplace\n",
    "    x_pixel = np.floor((x - xmin) / dx)\n",
    "    y_pixel = np.floor((y - ymin) / dy)\n",
    "\n",
    "    # Stack the results after adjustment\n",
    "    xyi = np.vstack((x_pixel, y_pixel))\n",
    "\n",
    "    # Next, make a 2D histogram of x & y\n",
    "    # Avoiding np.histogram2d due to excessive memory usage with many points\n",
    "    grid = sp.sparse.coo_matrix((weights, xyi), shape=(gridsize)).toarray()\n",
    "\n",
    "    if cov is None:\n",
    "        cov = np.cov(xyi)\n",
    "\n",
    "    if nocorrelation:\n",
    "        cov[1, 0] = 0\n",
    "        cov[0, 1] = 0\n",
    "\n",
    "    # Scaling factor for bandwidth\n",
    "    scotts_factor = np.power(n, -1.0 / 6) # For 2D\n",
    "\n",
    "    # MAKE THE GAUSSIAN KERNEL\n",
    "\n",
    "    # First, determine how big the kernel needs to be\n",
    "    std_devs = np.diag(np.sqrt(cov))\n",
    "    kern_nx, kern_ny = np.round(scotts_factor * 2 * np.pi * std_devs)\n",
    " \n",
    "    # Determine the bandwidth to use for the gaussian kernel\n",
    "    inv_cov = np.linalg.inv(cov * scotts_factor**2) \n",
    " \n",
    "    # x & y (pixel) coords of the kernel grid, with <x,y> = <0,0> in center\n",
    "    xx = np.arange(kern_nx) - kern_nx / 2.0\n",
    "    yy = np.arange(kern_ny) - kern_ny / 2.0\n",
    "    xx, yy = np.meshgrid(xx, yy)\n",
    " \n",
    "    # Then evaluate the gaussian function on the kernel grid\n",
    "    kernel = np.vstack((xx.flatten(), yy.flatten()))\n",
    "    kernel = np.dot(inv_cov, kernel) * kernel\n",
    "    kernel = np.sum(kernel, axis=0) / 2.0\n",
    "    kernel = np.exp(-kernel).reshape(np.int64(kern_ny), np.int64(kern_nx))\n",
    "\n",
    "    # THE KERNEL DENSITY ESTIMATE\n",
    "\n",
    "    # Convolve the gaussian kernel with the 2D histogram, producing a gaussian\n",
    "    # kernel density estimate on a regular grid\n",
    "    #grid = sp.signal.convolve2d(grid, kernel, mode='same', boundary='fill').T\n",
    "    grid = sp.signal.fftconvolve(grid, kernel, mode='same').T\n",
    "    \n",
    "    # Normalization factor to divide result by so that units are in the same\n",
    "    # units as scipy.stats.kde.gaussian_kde's output.  \n",
    "    #norm_factor = 2 * np.pi * cov * scotts_factor**2\n",
    "    #norm_factor = np.linalg.det(norm_factor)\n",
    "    #norm_factor = n * dx * dy * np.sqrt(norm_factor)\n",
    "    det = np.linalg.det(cov)\n",
    "    if det < 0 :\n",
    "        sqrt_det = -np.sqrt(det)\n",
    "    else :\n",
    "        sqrt_det = np.sqrt(det)\n",
    "    \n",
    "    norm_factor = n * dx * dy * (2 * np.pi) * scotts_factor**2 * sqrt_det\n",
    "\n",
    " \n",
    "    # Normalize the result\n",
    "    grid /= norm_factor\n",
    "\n",
    "    grid +=abs(grid.min())\n",
    "\n",
    "    if density:\n",
    "        grid /=np.sum(grid)\n",
    "\n",
    "    return np.flipud(grid)"
   ]
  },
  {
   "cell_type": "code",
   "execution_count": 25,
   "id": "9a200825-1ca2-4221-905f-2668e7367082",
   "metadata": {},
   "outputs": [],
   "source": [
    "def shannon_mi_from_kde(kde,epsilon=1e-10, norm=True, corr = True):\n",
    "\n",
    "    p_xy = kde / np.sum(kde)\n",
    "        \n",
    "    if corr :\n",
    "        corr_thresh = (1 / (p_xy.shape[0] * p_xy.shape[1]))\n",
    "        p_xy = np.where(p_xy <= corr_thresh, 0, p_xy)\n",
    "        p_xy /= np.sum(p_xy)\n",
    "        mask = np.where(p_xy==0,0,1)\n",
    "    else :\n",
    "        mask = np.ones_like(p_xy)\n",
    "\n",
    "    p_x = np.sum(p_xy, axis=0,keepdims=True)\n",
    "    p_y = np.sum(p_xy, axis=1,keepdims=True)\n",
    "\n",
    "    px_py = mask * (p_x * p_y)\n",
    "    px_py /= np.sum(px_py)\n",
    "\n",
    "    px_py_ones = px_py + (np.ones_like(px_py) - mask)\n",
    "    p_xy_ones = p_xy + (np.ones_like(p_xy) - mask)\n",
    "\n",
    "    mi = np.sum(p_xy * np.log2(p_xy_ones/px_py_ones))\n",
    "  \n",
    "    #mi = np.sum(p_xy * np.log2(p_xy / ((p_x * p_y) + epsilon)))\n",
    "\n",
    "    h_x = -np.sum(p_x * np.log2(p_x + epsilon))\n",
    "    h_y = -np.sum(p_y * np.log2(p_y + epsilon))\n",
    "\n",
    "    if norm:\n",
    "         mi /= np.sqrt(h_x * h_y)\n",
    "    return mi"
   ]
  },
  {
   "cell_type": "code",
   "execution_count": 26,
   "id": "48097c0f-34ba-4dd2-94be-ece885fa8ae4",
   "metadata": {},
   "outputs": [],
   "source": [
    "def joint_entropies(data,gridsize=(200,200),epsilon=1e-100):\n",
    "\n",
    "    kde_2d = np.zeros((data.shape[-1],data.shape[-1],gridsize[0],gridsize[1]))\n",
    "    for i in range(data.shape[1]):\n",
    "        for j in range(data.shape[1]):\n",
    "            kde_2d[i,j]=fast_kde(x=data[:,i],y=data[:,j], gridsize=gridsize,density=True)\n",
    "    probs = (kde_2d/data.shape[0]) + epsilon\n",
    "    joint_entropies = -(probs * np.log2(probs)).sum((2,3))\n",
    "    return joint_entropies"
   ]
  },
  {
   "cell_type": "code",
   "execution_count": 43,
   "id": "12c61a8b-bdb6-4166-b45d-f009023059ae",
   "metadata": {},
   "outputs": [],
   "source": [
    "def mutual_info_matrix(data, gridsize=(10,10), norm=True):\n",
    "\n",
    "    n = data.shape[-1]\n",
    "    j_entropies = joint_entropies(data=data,gridsize=gridsize)\n",
    "    entropies = j_entropies.diagonal()\n",
    "    entropies_tile = np.tile(entropies, (n, 1))\n",
    "    sum_entropies = entropies_tile + entropies_tile.T\n",
    "    mi_matrix = sum_entropies - j_entropies\n",
    "    if norm:\n",
    "        #mi_matrix = mi_matrix * 2 / sum_entropies\n",
    "        mi_matrix = mi_matrix / np.sqrt(entropies_tile * entropies_tile.T)\n",
    "    return mi_matrix"
   ]
  },
  {
   "cell_type": "code",
   "execution_count": 28,
   "id": "6d14759b-707c-403f-89e6-dbe7620a8ac1",
   "metadata": {},
   "outputs": [],
   "source": [
    "test = joint_entropies(data = expr_mat_wnt_trim[:,0:10])"
   ]
  },
  {
   "cell_type": "code",
   "execution_count": 44,
   "id": "be24e36e-9c54-4bbd-966a-7f0adbea0183",
   "metadata": {},
   "outputs": [],
   "source": [
    "test2 = mutual_info_matrix(data = expr_mat_wnt_trim[:,0:20])"
   ]
  },
  {
   "cell_type": "code",
   "execution_count": 45,
   "id": "dfe37a01-891e-4251-8e10-7f18f68bc548",
   "metadata": {},
   "outputs": [
    {
     "data": {
      "text/plain": [
       "0.932054423150671"
      ]
     },
     "execution_count": 45,
     "metadata": {},
     "output_type": "execute_result"
    }
   ],
   "source": [
    "np.min(test2)"
   ]
  },
  {
   "cell_type": "code",
   "execution_count": 290,
   "id": "9fe90645-e348-4479-91a3-66a1931c3837",
   "metadata": {},
   "outputs": [
    {
     "ename": "KeyboardInterrupt",
     "evalue": "",
     "output_type": "error",
     "traceback": [
      "\u001b[0;31m---------------------------------------------------------------------------\u001b[0m",
      "\u001b[0;31mKeyboardInterrupt\u001b[0m                         Traceback (most recent call last)",
      "Cell \u001b[0;32mIn[290], line 3\u001b[0m\n\u001b[1;32m      1\u001b[0m nmi_mat\u001b[38;5;241m=\u001b[39mnp\u001b[38;5;241m.\u001b[39mzeros((expr_mat_wnt_trim\u001b[38;5;241m.\u001b[39mshape[\u001b[38;5;241m1\u001b[39m],expr_mat_wnt_trim\u001b[38;5;241m.\u001b[39mshape[\u001b[38;5;241m1\u001b[39m]))\n\u001b[1;32m      2\u001b[0m \u001b[38;5;28;01mfor\u001b[39;00m i,j \u001b[38;5;129;01min\u001b[39;00m \u001b[38;5;28mzip\u001b[39m(\u001b[38;5;241m*\u001b[39mnp\u001b[38;5;241m.\u001b[39mtriu_indices(expr_mat_wnt_trim\u001b[38;5;241m.\u001b[39mshape[\u001b[38;5;241m1\u001b[39m])):\n\u001b[0;32m----> 3\u001b[0m     kde ,xyi \u001b[38;5;241m=\u001b[39m \u001b[43mfast_kde\u001b[49m\u001b[43m(\u001b[49m\u001b[43mx\u001b[49m\u001b[38;5;241;43m=\u001b[39;49m\u001b[43mexpr_mat_wnt_trim\u001b[49m\u001b[43m[\u001b[49m\u001b[43m:\u001b[49m\u001b[43m,\u001b[49m\u001b[43mi\u001b[49m\u001b[43m]\u001b[49m\u001b[43m,\u001b[49m\u001b[43my\u001b[49m\u001b[38;5;241;43m=\u001b[39;49m\u001b[43mexpr_mat_wnt_trim\u001b[49m\u001b[43m[\u001b[49m\u001b[43m:\u001b[49m\u001b[43m,\u001b[49m\u001b[43mj\u001b[49m\u001b[43m]\u001b[49m\u001b[43m,\u001b[49m\u001b[43mgridsize\u001b[49m\u001b[38;5;241;43m=\u001b[39;49m\u001b[43m(\u001b[49m\u001b[38;5;241;43m200\u001b[39;49m\u001b[43m,\u001b[49m\u001b[38;5;241;43m200\u001b[39;49m\u001b[43m)\u001b[49m\u001b[43m)\u001b[49m\n\u001b[1;32m      4\u001b[0m     nmi_mat[i,j]\u001b[38;5;241m=\u001b[39mshannon_mi_from_kde(kde,norm\u001b[38;5;241m=\u001b[39m\u001b[38;5;28;01mTrue\u001b[39;00m, corr\u001b[38;5;241m=\u001b[39m\u001b[38;5;28;01mTrue\u001b[39;00m)\n",
      "Cell \u001b[0;32mIn[80], line 49\u001b[0m, in \u001b[0;36mfast_kde\u001b[0;34m(x, y, gridsize, epsilon, extents, nocorrelation, weights, cov)\u001b[0m\n\u001b[1;32m     46\u001b[0m grid \u001b[38;5;241m=\u001b[39m sp\u001b[38;5;241m.\u001b[39msparse\u001b[38;5;241m.\u001b[39mcoo_matrix((weights, xyi), shape\u001b[38;5;241m=\u001b[39m(gridsize))\u001b[38;5;241m.\u001b[39mtoarray()\n\u001b[1;32m     48\u001b[0m \u001b[38;5;28;01mif\u001b[39;00m cov \u001b[38;5;129;01mis\u001b[39;00m \u001b[38;5;28;01mNone\u001b[39;00m:\n\u001b[0;32m---> 49\u001b[0m     cov \u001b[38;5;241m=\u001b[39m \u001b[43mnp\u001b[49m\u001b[38;5;241;43m.\u001b[39;49m\u001b[43mcov\u001b[49m\u001b[43m(\u001b[49m\u001b[43mxyi\u001b[49m\u001b[43m)\u001b[49m\n\u001b[1;32m     51\u001b[0m \u001b[38;5;28;01mif\u001b[39;00m nocorrelation:\n\u001b[1;32m     52\u001b[0m     cov[\u001b[38;5;241m1\u001b[39m, \u001b[38;5;241m0\u001b[39m] \u001b[38;5;241m=\u001b[39m \u001b[38;5;241m0\u001b[39m\n",
      "File \u001b[0;32m~/anaconda3/lib/python3.10/site-packages/numpy/lib/function_base.py:2724\u001b[0m, in \u001b[0;36mcov\u001b[0;34m(m, y, rowvar, bias, ddof, fweights, aweights, dtype)\u001b[0m\n\u001b[1;32m   2721\u001b[0m     \u001b[38;5;28;01melse\u001b[39;00m:\n\u001b[1;32m   2722\u001b[0m         w \u001b[38;5;241m*\u001b[39m\u001b[38;5;241m=\u001b[39m aweights\n\u001b[0;32m-> 2724\u001b[0m avg, w_sum \u001b[38;5;241m=\u001b[39m \u001b[43maverage\u001b[49m\u001b[43m(\u001b[49m\u001b[43mX\u001b[49m\u001b[43m,\u001b[49m\u001b[43m \u001b[49m\u001b[43maxis\u001b[49m\u001b[38;5;241;43m=\u001b[39;49m\u001b[38;5;241;43m1\u001b[39;49m\u001b[43m,\u001b[49m\u001b[43m \u001b[49m\u001b[43mweights\u001b[49m\u001b[38;5;241;43m=\u001b[39;49m\u001b[43mw\u001b[49m\u001b[43m,\u001b[49m\u001b[43m \u001b[49m\u001b[43mreturned\u001b[49m\u001b[38;5;241;43m=\u001b[39;49m\u001b[38;5;28;43;01mTrue\u001b[39;49;00m\u001b[43m)\u001b[49m\n\u001b[1;32m   2725\u001b[0m w_sum \u001b[38;5;241m=\u001b[39m w_sum[\u001b[38;5;241m0\u001b[39m]\n\u001b[1;32m   2727\u001b[0m \u001b[38;5;66;03m# Determine the normalization\u001b[39;00m\n",
      "File \u001b[0;32m~/anaconda3/lib/python3.10/site-packages/numpy/lib/function_base.py:558\u001b[0m, in \u001b[0;36maverage\u001b[0;34m(a, axis, weights, returned, keepdims)\u001b[0m\n\u001b[1;32m    556\u001b[0m \u001b[38;5;28;01mif\u001b[39;00m returned:\n\u001b[1;32m    557\u001b[0m     \u001b[38;5;28;01mif\u001b[39;00m scl\u001b[38;5;241m.\u001b[39mshape \u001b[38;5;241m!=\u001b[39m avg_as_array\u001b[38;5;241m.\u001b[39mshape:\n\u001b[0;32m--> 558\u001b[0m         scl \u001b[38;5;241m=\u001b[39m \u001b[43mnp\u001b[49m\u001b[38;5;241;43m.\u001b[39;49m\u001b[43mbroadcast_to\u001b[49m\u001b[43m(\u001b[49m\u001b[43mscl\u001b[49m\u001b[43m,\u001b[49m\u001b[43m \u001b[49m\u001b[43mavg_as_array\u001b[49m\u001b[38;5;241;43m.\u001b[39;49m\u001b[43mshape\u001b[49m\u001b[43m)\u001b[49m\u001b[38;5;241m.\u001b[39mcopy()\n\u001b[1;32m    559\u001b[0m     \u001b[38;5;28;01mreturn\u001b[39;00m avg, scl\n\u001b[1;32m    560\u001b[0m \u001b[38;5;28;01melse\u001b[39;00m:\n",
      "File \u001b[0;32m~/anaconda3/lib/python3.10/site-packages/numpy/lib/stride_tricks.py:413\u001b[0m, in \u001b[0;36mbroadcast_to\u001b[0;34m(array, shape, subok)\u001b[0m\n\u001b[1;32m    367\u001b[0m \u001b[38;5;129m@array_function_dispatch\u001b[39m(_broadcast_to_dispatcher, module\u001b[38;5;241m=\u001b[39m\u001b[38;5;124m'\u001b[39m\u001b[38;5;124mnumpy\u001b[39m\u001b[38;5;124m'\u001b[39m)\n\u001b[1;32m    368\u001b[0m \u001b[38;5;28;01mdef\u001b[39;00m \u001b[38;5;21mbroadcast_to\u001b[39m(array, shape, subok\u001b[38;5;241m=\u001b[39m\u001b[38;5;28;01mFalse\u001b[39;00m):\n\u001b[1;32m    369\u001b[0m \u001b[38;5;250m    \u001b[39m\u001b[38;5;124;03m\"\"\"Broadcast an array to a new shape.\u001b[39;00m\n\u001b[1;32m    370\u001b[0m \n\u001b[1;32m    371\u001b[0m \u001b[38;5;124;03m    Parameters\u001b[39;00m\n\u001b[0;32m   (...)\u001b[0m\n\u001b[1;32m    411\u001b[0m \u001b[38;5;124;03m           [1, 2, 3]])\u001b[39;00m\n\u001b[1;32m    412\u001b[0m \u001b[38;5;124;03m    \"\"\"\u001b[39;00m\n\u001b[0;32m--> 413\u001b[0m     \u001b[38;5;28;01mreturn\u001b[39;00m \u001b[43m_broadcast_to\u001b[49m\u001b[43m(\u001b[49m\u001b[43marray\u001b[49m\u001b[43m,\u001b[49m\u001b[43m \u001b[49m\u001b[43mshape\u001b[49m\u001b[43m,\u001b[49m\u001b[43m \u001b[49m\u001b[43msubok\u001b[49m\u001b[38;5;241;43m=\u001b[39;49m\u001b[43msubok\u001b[49m\u001b[43m,\u001b[49m\u001b[43m \u001b[49m\u001b[43mreadonly\u001b[49m\u001b[38;5;241;43m=\u001b[39;49m\u001b[38;5;28;43;01mTrue\u001b[39;49;00m\u001b[43m)\u001b[49m\n",
      "\u001b[0;31mKeyboardInterrupt\u001b[0m: "
     ]
    }
   ],
   "source": [
    "#nmi_mat=np.zeros((expr_mat_wnt_trim.shape[1],expr_mat_wnt_trim.shape[1]))\n",
    "#for i,j in zip(*np.triu_indices(expr_mat_wnt_trim.shape[1])):\n",
    "#    kde ,xyi = fast_kde(x=expr_mat_wnt_trim[:,i],y=expr_mat_wnt_trim[:,j],gridsize=(200,200))\n",
    "#    nmi_mat[i,j]=shannon_mi_from_kde(kde,norm=True, corr=True)"
   ]
  },
  {
   "cell_type": "code",
   "execution_count": 294,
   "id": "9da473af-ebf9-43b8-9d49-a20c8bfbbb74",
   "metadata": {},
   "outputs": [],
   "source": [
    "def joint_entropies(data, nbins=None):\n",
    "    n_variables = data.shape[-1]\n",
    "    n_samples = data.shape[0]\n",
    "    if nbins == None:\n",
    "        nbins = int((n_samples/5)**.5)\n",
    "    histograms2d = np.zeros((n_variables, n_variables, nbins, nbins))\n",
    "    for i in range(n_variables):\n",
    "        for j in range(n_variables):\n",
    "            histograms2d[i,j] = np.histogram2d(data[:,i], data[:,j], bins=nbins)[0]\n",
    "    probs = histograms2d / len(data) + 1e-100\n",
    "    joint_entropies = -(probs * np.log2(probs)).sum((2,3))\n",
    "    return joint_entropies\n",
    "\n",
    "def mutual_info_matrix(df, nbins=None, normalized=True):\n",
    "    data = df.to_numpy()\n",
    "    n_variables = data.shape[-1]\n",
    "    j_entropies = joint_entropies(data, nbins)\n",
    "    entropies = j_entropies.diagonal()\n",
    "    entropies_tile = np.tile(entropies, (n_variables, 1))\n",
    "    sum_entropies = entropies_tile + entropies_tile.T\n",
    "    mi_matrix = sum_entropies - j_entropies\n",
    "    if normalized:\n",
    "        mi_matrix = mi_matrix * 2 / sum_entropies    \n",
    "    return pd.DataFrame(mi_matrix, index=df.columns, columns=df.columns)"
   ]
  },
  {
   "cell_type": "code",
   "execution_count": null,
   "id": "daf1da6d-8541-4514-a89c-3643baa235d0",
   "metadata": {},
   "outputs": [],
   "source": []
  },
  {
   "cell_type": "code",
   "execution_count": 320,
   "id": "2f1ef6e3-2206-4f58-87fb-7bcf8f2c1f5b",
   "metadata": {},
   "outputs": [],
   "source": [
    "#from scipy.stats import gaussian_kde"
   ]
  },
  {
   "cell_type": "code",
   "execution_count": null,
   "id": "22b38364-ccdb-493d-892f-280f1f108843",
   "metadata": {},
   "outputs": [],
   "source": []
  },
  {
   "cell_type": "code",
   "execution_count": 313,
   "id": "3671f98c-ab6d-4cd6-a2ac-49283b157abd",
   "metadata": {},
   "outputs": [],
   "source": [
    "#mi = mutual_info_matrix(df = pd.DataFrame(expr_mat_wnt_trim[:,0:100]))"
   ]
  },
  {
   "cell_type": "code",
   "execution_count": 314,
   "id": "e0e209de-2a36-42e5-b321-6ec8ffca1b30",
   "metadata": {},
   "outputs": [],
   "source": [
    "#mi = np.asarray(mi)"
   ]
  },
  {
   "cell_type": "code",
   "execution_count": 315,
   "id": "a3faa80d-27a8-4761-928d-eee26ab799ab",
   "metadata": {},
   "outputs": [
    {
     "data": {
      "text/plain": [
       "array([[1.        , 0.0337842 , 0.09680828, ..., 0.0369712 , 0.04466083,\n",
       "        0.0467749 ],\n",
       "       [0.0337842 , 1.        , 0.08135896, ..., 0.00755857, 0.04102615,\n",
       "        0.05499529],\n",
       "       [0.09680828, 0.08135896, 1.        , ..., 0.03110569, 0.04265504,\n",
       "        0.02549597],\n",
       "       ...,\n",
       "       [0.0369712 , 0.00755857, 0.03110569, ..., 1.        , 0.02172152,\n",
       "        0.22460614],\n",
       "       [0.04466083, 0.04102615, 0.04265504, ..., 0.02172152, 1.        ,\n",
       "        0.07894298],\n",
       "       [0.0467749 , 0.05499529, 0.02549597, ..., 0.22460614, 0.07894298,\n",
       "        1.        ]])"
      ]
     },
     "execution_count": 315,
     "metadata": {},
     "output_type": "execute_result"
    }
   ],
   "source": [
    "#mi"
   ]
  },
  {
   "cell_type": "code",
   "execution_count": 317,
   "id": "4b943049-adb4-45a5-9161-ade0aadb17c8",
   "metadata": {},
   "outputs": [],
   "source": [
    "#np.fill_diagonal(mi,0)"
   ]
  },
  {
   "cell_type": "code",
   "execution_count": 319,
   "id": "e281c2e3-fbcd-488a-8610-f8072f041970",
   "metadata": {},
   "outputs": [
    {
     "data": {
      "text/plain": [
       "0.24186736943395268"
      ]
     },
     "execution_count": 319,
     "metadata": {},
     "output_type": "execute_result"
    }
   ],
   "source": [
    "#np.max(mi)"
   ]
  },
  {
   "cell_type": "code",
   "execution_count": 322,
   "id": "68521811-f689-4e7f-b046-1fde731f24f0",
   "metadata": {},
   "outputs": [],
   "source": [
    "#genes1 = expr_mat_wnt_trim[:,1]\n",
    "#genes2 = expr_mat_wnt_trim[:,1]"
   ]
  },
  {
   "cell_type": "code",
   "execution_count": 323,
   "id": "befdeeae-5906-43f3-9a73-8c82db7df52a",
   "metadata": {},
   "outputs": [],
   "source": [
    "#kde ,xyi=fast_kde(x=genes1,y=genes2,gridsize=(100,100))"
   ]
  },
  {
   "cell_type": "code",
   "execution_count": 292,
   "id": "a609a13a-8993-427d-b083-c4df265c6359",
   "metadata": {},
   "outputs": [
    {
     "data": {
      "text/plain": [
       "0.027979778919112987"
      ]
     },
     "execution_count": 292,
     "metadata": {},
     "output_type": "execute_result"
    }
   ],
   "source": []
  },
  {
   "cell_type": "code",
   "execution_count": 324,
   "id": "5d3bb8fe-f997-4c49-8bfc-3e108767a737",
   "metadata": {},
   "outputs": [],
   "source": [
    "#kde /=kde.sum()\n",
    "#np.where(kde<=1/4000)\n",
    "#kde = np.where(kde<=1/4000,0,kde)\n",
    "#kde_pxy = (np.sum(kde,axis=0, keepdims=True))*(np.sum(kde,axis=1, keepdims=True))\n",
    "#kde_pxy = np.where(kde_pxy<=1/4000,0,kde_pxy)                                             \n",
    "#kde /=kde.sum()\n",
    "#kde_pxy /=kde_pxy.sum()"
   ]
  },
  {
   "cell_type": "code",
   "execution_count": null,
   "id": "7a1b5852-cf31-4d8c-aaf5-c280a2232d0f",
   "metadata": {},
   "outputs": [],
   "source": []
  },
  {
   "cell_type": "code",
   "execution_count": 332,
   "id": "faa9852a-aead-4601-964e-4d3fd0bc1b5f",
   "metadata": {},
   "outputs": [
    {
     "data": {
      "image/png": "[encoded data removed]",
      "text/plain": [
       "<Figure size 800x600 with 2 Axes>"
      ]
     },
     "metadata": {},
     "output_type": "display_data"
    }
   ],
   "source": [
    "#kde/=np.sum(kde)\n",
    "#plt.figure(figsize=(8, 6))\n",
    "#plt.imshow(kde, origin='lower', cmap='viridis', aspect='auto')\n",
    "#plt.imshow(kde_pxy, origin='lower', cmap='viridis', aspect='auto')\n",
    "#plt.plot(xyi[0,:],xyi[1,:],'x',c=\"white\")\n",
    "#plt.colorbar(label='Density')\n",
    "#plt.xlabel('X')\n",
    "#plt.ylabel('Y')\n",
    "#plt.title('2D KDE Heatmap')\n",
    "#plt.show()"
   ]
  },
  {
   "cell_type": "code",
   "execution_count": 326,
   "id": "19219313-9a34-4a76-9fbc-bd2340ecb5bc",
   "metadata": {},
   "outputs": [],
   "source": [
    "kde /=np.sum(kde)"
   ]
  },
  {
   "cell_type": "code",
   "execution_count": 327,
   "id": "1f98464f-70ca-4580-ad01-590efc67abee",
   "metadata": {},
   "outputs": [],
   "source": [
    "kde +=1e-10"
   ]
  },
  {
   "cell_type": "code",
   "execution_count": 329,
   "id": "3073085d-138a-4447-8cd0-16073faeb723",
   "metadata": {},
   "outputs": [],
   "source": [
    "joint_entropies = -(kde * np.log2(kde)).sum()"
   ]
  },
  {
   "cell_type": "code",
   "execution_count": 330,
   "id": "5a87972d-6930-4a16-ad25-53d915f88244",
   "metadata": {},
   "outputs": [],
   "source": [
    "kde = np.flipud(kde)"
   ]
  },
  {
   "cell_type": "code",
   "execution_count": 333,
   "id": "4981c304-2b66-49cb-989e-f570d84d5aae",
   "metadata": {},
   "outputs": [
    {
     "ename": "ValueError",
     "evalue": "diag requires an array of at least two dimensions",
     "output_type": "error",
     "traceback": [
      "\u001b[0;31m---------------------------------------------------------------------------\u001b[0m",
      "\u001b[0;31mValueError\u001b[0m                                Traceback (most recent call last)",
      "Cell \u001b[0;32mIn[333], line 1\u001b[0m\n\u001b[0;32m----> 1\u001b[0m entropies \u001b[38;5;241m=\u001b[39m \u001b[43mjoint_entropies\u001b[49m\u001b[38;5;241;43m.\u001b[39;49m\u001b[43mdiagonal\u001b[49m\u001b[43m(\u001b[49m\u001b[43m)\u001b[49m\n",
      "\u001b[0;31mValueError\u001b[0m: diag requires an array of at least two dimensions"
     ]
    }
   ],
   "source": []
  },
  {
   "cell_type": "code",
   "execution_count": 43,
   "id": "dc37e8c1-6ca1-43cf-bb8e-4c7e262b9a24",
   "metadata": {},
   "outputs": [
    {
     "data": {
      "text/plain": [
       "2.5e-05"
      ]
     },
     "execution_count": 43,
     "metadata": {},
     "output_type": "execute_result"
    }
   ],
   "source": [
    "1/(200*200)"
   ]
  },
  {
   "cell_type": "code",
   "execution_count": null,
   "id": "385bb46e-a08e-4d50-a46b-82783caf10dd",
   "metadata": {},
   "outputs": [],
   "source": []
  }
 ],
 "metadata": {
  "kernelspec": {
   "display_name": "Python 3 (ipykernel)",
   "language": "python",
   "name": "python3"
  },
  "language_info": {
   "codemirror_mode": {
    "name": "ipython",
    "version": 3
   },
   "file_extension": ".py",
   "mimetype": "text/x-python",
   "name": "python",
   "nbconvert_exporter": "python",
   "pygments_lexer": "ipython3",
   "version": "3.10.15"
  }
 },
 "nbformat": 4,
 "nbformat_minor": 5
}
