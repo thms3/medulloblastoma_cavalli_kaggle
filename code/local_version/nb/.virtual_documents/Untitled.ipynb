import heapq

def dijkstra_with_target_and_depth(self, source, end, depth_limit):
    dist = [float('inf')] * self.V  # Distance to each node
    seen = set()  # Visited nodes
    heap = []  # Min-heap priority queue
    depth_tracker = [0] * self.V  # Track the depth of each node
    previous_nodes = [None] * self.V  # To reconstruct the path

    dist[source] = 0
    heapq.heappush(heap, (0, source, 0))  # (distance, node, depth)

    while heap:
        current_dist, node, current_depth = heapq.heappop(heap)

        # If depth exceeds limit, skip this path
        if current_depth > depth_limit:
            continue

        # If the target node is reached, stop
        if node == end:
            return dist[end], self.reconstruct_path(previous_nodes, source, end)

        # Mark the node as seen
        seen.add(node)

        # Explore neighbors
        for conn, weight in self.graph[node]:
            if conn not in seen:
                new_dist = current_dist + weight
                new_depth = current_depth + 1

                # Update if a shorter path is found
                if new_dist < dist[conn]:
                    dist[conn] = new_dist
                    depth_tracker[conn] = new_depth
                    previous_nodes[conn] = node
                    heapq.heappush(heap, (new_dist, conn, new_depth))

    # If the target node is not reachable within the depth limit
    return float('inf'), None

def reconstruct_path(self, previous_nodes, source, target):
    path = []
    current = target
    while current is not None:
        path.insert(0, current)
        if current == source:
            break
        current = previous_nodes[current]
    return path if path[0] == source else None




