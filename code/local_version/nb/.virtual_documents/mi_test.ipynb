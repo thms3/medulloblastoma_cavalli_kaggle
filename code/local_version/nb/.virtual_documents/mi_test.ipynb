


import pandas as pd
import numpy as np

import matplotlib.pyplot as plt
import seaborn as sns

from concurrent.futures import ProcessPoolExecutor, as_completed


path_data_prot_coding='/home/thomas/Documents/git/medulloblastoma_cavalli_kaggle/data/in/protein_coding/'
path_metadata_prot_coding = path_data_prot_coding + 'GSE85217_Cavalli_subgroups_information_protein_coding.csv'
path_exp_mat_prot_coding_nocorr = path_data_prot_coding + 'GSE85217_M_exp_763_MB_SubtypeStudy_TaylorLab_protein_coding_nocorr.csv'


expr_mat = pd.read_csv(path_exp_mat_prot_coding_nocorr,index_col=0)


expr_mat=np.array(expr_mat)
toys_mat = expr_mat[:,0:500]


def joint_entropies(data, nbins=None):
    n_variables = data.shape[-1]
    n_samples = data.shape[0]
    if nbins == None:
        nbins = int((n_samples/5)**.5)
    histograms2d = np.zeros((n_variables, n_variables, nbins, nbins))
    for i in range(n_variables):
        for j in range(n_variables):
            histograms2d[i,j] = np.histogram2d(data[:,i], data[:,j], bins=nbins)[0]
    probs = histograms2d / len(data) + 1e-100
    joint_entropies = -(probs * np.log2(probs)).sum((2,3))
    return joint_entropies

def mutual_info_matrix(df, nbins=None, normalized=True):
    data = df.to_numpy()
    n_variables = data.shape[-1]
    j_entropies = joint_entropies(data, nbins)
    entropies = j_entropies.diagonal()
    entropies_tile = np.tile(entropies, (n_variables, 1))
    sum_entropies = entropies_tile + entropies_tile.T
    mi_matrix = sum_entropies - j_entropies
    if normalized:
        mi_matrix = mi_matrix * 2 / sum_entropies    
    return pd.DataFrame(mi_matrix, index=df.columns, columns=df.columns)


def joint_emtropies(x,y):

    n_vars_x = x.shape[-1]
    n_vars_y = y.shape[-1]
    
    x_samples = x.shape[0]
    y_samples = y.shape[0]

    x_bins = int((x_samples/5)**.5)
    y_bins = int((y_samples/5)**.5)
    n_bins = min(x_bins,y_bins)

    histograms2d = np.zeros((n_vars_x, n_vars_y, x_bins, y_bins))
    idx = np.tril_indices(n = n_vars_x, m = n_vars_y)

    for i, j in zip(*idx):
        hist2d, _, _ = np.histogram2d(x[:, i], y[:, j], bins=n_bins)
        histograms2d[i,j] = hist2d
        if i != j:
            histograms2d[j,i] = hist2d.T

    probs = histograms2d / x_samples + 1e-100
    joint_entropies = -(probs * np.log2(probs)).sum(axis=(2, 3))

    return joint_entropies


joint_emtropies(x=expr_mat[:,0:10],y=expr_mat[:,0:10])


def chunkify_expr_mat(exp_mat,start=0,step=500):
    
    checkpoint = list(range(start,exp_mat.shape[1],step))+[exp_mat.shape[1]]
    
    for i in range(len(checkpoint)-1):
        yield checkpoint[i],checkpoint[i+1]


chunks = [(x,y) for x,y in chunkify_expr_mat(toys_mat,start=0,step=100)]
chunks_array = np.array([[chunks[i],chunks[j]] for i in range(len(chunks)) for j in range(i,len(chunks))])


def gen_chunk_array(expr_mat,chunks_array):

    for chunk in chunks_array:
        chunk1=chunk[0]
        chunk2=chunk[1]

        yield expr_mat[:,chunk1[0]:chunk1[1]], expr_mat[:,chunk2[0]:chunk2[1]]


chunks_expr_mat = [(x,y) for x,y in gen_chunk_array(expr_mat,chunks_array)]


chunks_expr_mat


%%time
with ProcessPoolExecutor(max_workers=7) as executor:
    futures=[executor.submit(joint_emtropies,chunk[0],chunk[1]) for chunk in chunks_expr_mat]


#with ProcessPoolExecutor(max_workers=7) as executor: 
#[joint_emtropies(x=,y=)  for chunk in chunks_array]


%%time
res=joint_entropies(data=expr_mat[:,0:10])



