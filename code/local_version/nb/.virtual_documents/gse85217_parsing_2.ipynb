


import numpy as np # linear algebra
import pandas as pd # data processing, CSV file I/O (e.g. pd.read_csv)
from collections import OrderedDict
import os

import sys
sys.path.insert(1,'/home/thomas/Documents/git/medulloblastoma_cavalli_kaggle/code/local_version/fun')

from parser import Data


path_data="/home/thomas/Documents/git/medulloblastoma_cavalli_kaggle/data/raw/"
path_exp_mat= path_data + "GSE85217_M_exp_763_MB_SubtypeStudy_TaylorLab.txt"
path_metadata = path_data + "GSE85217_Cavalli_subgroups_information.csv"
path_refs="/home/thomas/Documents/git/medulloblastoma_cavalli_kaggle/data/refs/"
path_annotation= path_refs + "annotationhub.csv"


data = Data()
exp_mat = data.add_exp_mat(path_exp_mat=path_exp_mat, inplace = True)
metadata = data.add_meta(path_meta=path_metadata, inplace=True)


ah = pd.read_csv(path_annotation)
ah_protein_coding=ah[ah["gene_biotype"]=="protein_coding"]


protein_coding_list=list(set(exp_mat["HGNC_symbol_from_ensemblv77"]).intersection(set(ah_protein_coding["gene_name"])))
exp_mat=exp_mat[exp_mat["HGNC_symbol_from_ensemblv77"].isin(protein_coding_list)]
exp_mat.dropna(subset=["HGNC_symbol_from_ensemblv77"], how='any', inplace=True)


exp_mat.set_index("HGNC_symbol_from_ensemblv77",inplace=True)
samples = metadata["Study_ID"].tolist()
metadata.index = samples
exp_mat = exp_mat[samples]


metadata.to_csv("/home/thomas/Documents/git/medulloblastoma_cavalli_kaggle/data/in/protein_coding/GSE85217_Cavalli_subgroups_information_protein_coding.csv")
exp_mat = exp_mat.T


exp_mat.to_csv("/home/thomas/Documents/git/medulloblastoma_cavalli_kaggle/data/in/protein_coding/GSE85217_M_exp_763_MB_SubtypeStudy_TaylorLab_protein_coding.csv")



