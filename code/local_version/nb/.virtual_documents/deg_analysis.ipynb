


import pandas as pd
import numpy as np
import matplotlib.pyplot as plt

from sklearn.preprocessing import StandardScaler
from scipy.stats import mannwhitneyu
from scipy.stats import false_discovery_control


test = False


path_data = '/home/thomas/Documents/git/medulloblastoma_cavalli_kaggle/data/in/protein_coding/'
path_metadata = path_data + 'GSE85217_Cavalli_subgroups_information_protein_coding.csv'
path_expr_mat = path_data + 'GSE85217_M_exp_763_MB_SubtypeStudy_TaylorLab_protein_coding.csv'


metadata = pd.read_csv(path_metadata,index_col=0)
expr_mat = pd.read_csv(path_expr_mat,index_col=0)


expr_mat_wnt = expr_mat.loc[metadata[metadata['Subgroup']=='WNT']['Study_ID'].to_list(),:]
expr_mat_grp3 = expr_mat.loc[metadata[metadata['Subgroup']=='Group3']['Study_ID'].to_list(),:]
expr_mat_grp4 = expr_mat.loc[metadata[metadata['Subgroup']=='Group4']['Study_ID'].to_list(),:]
expr_mat_shh = expr_mat.loc[metadata[metadata['Subgroup']=='SHH']['Study_ID'].to_list(),:]


metadata['Subgroup'].unique()


# order
expr_mat_order_vars = pd.concat([expr_mat.mean(axis=0),expr_mat.median(axis=0),expr_mat.std(axis=0)],axis=1)
expr_mat_order_vars.columns = ['mean','median','sd']
expr_mat_order_vars.sort_values(by=['mean','median','sd'],inplace=True)

expr_mat_wnt=expr_mat_wnt[expr_mat_order_vars.index.tolist()]
expr_mat_grp3=expr_mat_grp3[expr_mat_order_vars.index.tolist()]
expr_mat_grp4=expr_mat_grp4[expr_mat_order_vars.index.tolist()]
expr_mat_shh=expr_mat_shh[expr_mat_order_vars.index.tolist()]


def trimmed_mean(expr_mat:np.ndarray,threshold=0.05):

    t_index=int(np.floor(expr_mat.shape[0]*(threshold/2)))

    trim_expr_mat=np.zeros((expr_mat.shape[0]-(2*t_index),expr_mat.shape[1]))

    for i in range(expr_mat.shape[1]):
        trim_expr_mat[:,i]=expr_mat[:,i][t_index:-t_index]

    return trim_expr_mat


expr_mat_wnt_trim=trimmed_mean(np.array(expr_mat_wnt))
expr_mat_grp3_trim=trimmed_mean(np.array(expr_mat_grp3))
expr_mat_grp4_trim=trimmed_mean(np.array(expr_mat_grp4))
expr_mat_shh_trim=trimmed_mean(np.array(expr_mat_shh))



def deg_annwhitneyu(expr_mat,expr_mat_grp1,expr_mat_grp2):

    results=[]
    for i,gene in enumerate(expr_mat.columns):
        grp1 = expr_mat_grp1[:,i]
        grp2 = expr_mat_grp2[:,i]

        stat, p_value = mannwhitneyu(grp1,grp2,alternative='two-sided')
            
        lfc = np.mean(np.log2(grp1)) - np.mean(np.log2(grp2))
    
        all_grp = np.concatenate([grp1,grp2])
    
        results.append({
            'gene':gene,
            'lfc':lfc.round(4),
            'mean':np.mean(all_grp).round(4),
            'std':np.std(all_grp).round(4),
            'statistic': stat,
            'pvalue':p_value
            })

    results_df = pd.DataFrame(results)
    results_df.sort_values(by = ['pvalue'],inplace=True)
    results_df['padj'] = false_discovery_control(results_df['pvalue'])
    return results_df


%%time
res_wnt_vs_grp3 =deg_annwhitneyu(expr_mat=expr_mat,expr_mat_grp1=expr_mat_wnt_trim,expr_mat_grp2=expr_mat_grp3_trim)


tt_wnt_vs_grp3=res_wnt_vs_grp3[(res_wnt_vs_grp3['padj'] <= 0.05) & (abs(res_wnt_vs_grp3['lfc']) >= 0.7)]


tt_wnt_vs_grp3


%%time
res_wnt_vs_grp4 =deg_annwhitneyu(expr_mat=expr_mat,expr_mat_grp1=expr_mat_wnt_trim,expr_mat_grp2=expr_mat_grp4_trim)


tt_wnt_vs_grp4 = res_wnt_vs_grp4[(res_wnt_vs_grp4['padj']<=0.05) & (res_wnt_vs_grp4['lfc'] >= 0.7)]


tt_wnt_vs_grp4


%%time
res_wnt_vs_ssh = deg_annwhitneyu(expr_mat=expr_mat,expr_mat_grp1=expr_mat_wnt_trim,expr_mat_grp2=expr_mat_shh_trim)


tt_wnt_vs_ssh = res_wnt_vs_ssh[(res_wnt_vs_ssh['padj']<=0.05) & (abs(res_wnt_vs_ssh['lfc'])>=0.7)]


tt_wnt_vs_ssh


# set genes
tt_genes_wnt_vs_grp3 = tt_wnt_vs_grp3['gene'].tolist()
tt_genes_wnt_vs_grp4 = tt_wnt_vs_grp4['gene'].tolist()
tt_genes_wnt_vs_ssh = tt_wnt_vs_ssh['gene'].tolist()


m = len(set(tt_genes_wnt_vs_grp3 + tt_genes_wnt_vs_grp4 + tt_genes_wnt_vs_ssh))
cross_tt_genes = pd.DataFrame(data = np.zeros((m,3)),index=list(set(tt_genes_wnt_vs_grp3 + tt_genes_wnt_vs_grp4 + tt_genes_wnt_vs_ssh)))

for i,lg in enumerate([tt_genes_wnt_vs_grp3,tt_genes_wnt_vs_grp4,tt_genes_wnt_vs_ssh]):
    for g in lg:
        cross_tt_genes.loc[g,i]=1

cross_tt_genes.columns = ['G3','G4','SSH']
cross_tt_genes['all'] = cross_tt_genes.sum(axis=1) / 3


cross_tt_genes


cross_tt_genes[cross_tt_genes['all']==1]


path_dge='/home/thomas/Documents/git/medulloblastoma_cavalli_kaggle/data/dge/'


res_wnt_vs_grp3.to_csv(path_dge + 'res/res_wnt_vs_grp3.csv',index=False)
res_wnt_vs_grp4.to_csv(path_dge + 'res/res_wnt_vs_grp4.csv',index=False)
res_wnt_vs_ssh.to_csv(path_dge + 'res/res_wnt_vs_ssh.csv',index=False)

tt_wnt_vs_grp3.to_csv(path_dge + 'tt/tt_wnt_vs_grp3.csv',index=False)
tt_wnt_vs_grp4.to_csv(path_dge + 'tt/tt_wnt_vs_grp4.csv',index=False)
tt_wnt_vs_ssh.to_csv(path_dge + 'tt/tt_wnt_vs_ssh.csv',index=False)

cross_tt_genes.to_csv(path_dge + 'cross_tt_genes_wnt_vs_all.csv')






