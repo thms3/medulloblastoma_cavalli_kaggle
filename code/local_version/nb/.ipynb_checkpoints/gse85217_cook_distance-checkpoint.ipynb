{
 "cells": [
  {
   "cell_type": "markdown",
   "id": "a9d205ca-9686-46d8-ba38-2be9f0295776",
   "metadata": {},
   "source": [
    "# [GSE85217] Tracking outliers - Cook's Distance"
   ]
  },
  {
   "cell_type": "code",
   "execution_count": 1,
   "id": "668f1973-0889-4941-9331-86c0b01eec6b",
   "metadata": {},
   "outputs": [
    {
     "name": "stdout",
     "output_type": "stream",
     "text": [
      "\u001b[35m[C 2024-11-04 14:14:53.447 ServerApp]\u001b[m No such file or directory: /home/thomas/Documents/git/medulloblastoma_cavalli_kaggle/code/local_version/nb/enable\n"
     ]
    }
   ],
   "source": [
    "!jupyter-lab enable widgetsnbextension"
   ]
  },
  {
   "cell_type": "markdown",
   "id": "2286be32-39fc-46d3-bb3f-f85f06704115",
   "metadata": {},
   "source": [
    "## Import lib"
   ]
  },
  {
   "cell_type": "code",
   "execution_count": 2,
   "id": "9f3fae7b-3c1f-4ce9-acc5-357dfa38aabb",
   "metadata": {},
   "outputs": [
    {
     "name": "stderr",
     "output_type": "stream",
     "text": [
      "2024-11-04 14:15:02.854724: E external/local_xla/xla/stream_executor/cuda/cuda_fft.cc:485] Unable to register cuFFT factory: Attempting to register factory for plugin cuFFT when one has already been registered\n",
      "2024-11-04 14:15:02.963900: E external/local_xla/xla/stream_executor/cuda/cuda_dnn.cc:8454] Unable to register cuDNN factory: Attempting to register factory for plugin cuDNN when one has already been registered\n",
      "2024-11-04 14:15:02.988620: E external/local_xla/xla/stream_executor/cuda/cuda_blas.cc:1452] Unable to register cuBLAS factory: Attempting to register factory for plugin cuBLAS when one has already been registered\n",
      "2024-11-04 14:15:03.139976: I tensorflow/core/platform/cpu_feature_guard.cc:210] This TensorFlow binary is optimized to use available CPU instructions in performance-critical operations.\n",
      "To enable the following instructions: AVX2 FMA, in other operations, rebuild TensorFlow with the appropriate compiler flags.\n",
      "2024-11-04 14:15:05.001572: W tensorflow/compiler/tf2tensorrt/utils/py_utils.cc:38] TF-TRT Warning: Could not find TensorRT\n"
     ]
    }
   ],
   "source": [
    "# lib\n",
    "#import modin.pandas as pd\n",
    "import pandas as pd\n",
    "import numpy as np\n",
    "import os\n",
    "from collections import OrderedDict\n",
    "import umap\n",
    "\n",
    "# fig\n",
    "import matplotlib.pyplot as plt\n",
    "import seaborn as sns\n",
    "\n",
    "# local lib\n",
    "import sys\n",
    "sys.path.insert(1,'/home/thomas/Documents/git/medulloblastoma_cavalli_kaggle/code/local_version/fun')\n",
    "\n",
    "from parser import Data"
   ]
  },
  {
   "cell_type": "code",
   "execution_count": 3,
   "id": "67fdf8d0-e91b-4f31-b7be-e9475e14935a",
   "metadata": {},
   "outputs": [],
   "source": [
    "path_data='/home/thomas/Documents/git/medulloblastoma_cavalli_kaggle/data/in/'\n",
    "path_exp_mat = path_data + 'GSE85217_M_exp_763_MB_SubtypeStudy_TaylorLab_parsed.txt'\n",
    "path_meta = path_data + 'GSE85217_Cavalli_subgroups_information_parsed.csv'\n",
    "\n",
    "data=Data()\n",
    "data.add_exp_mat(path_exp_mat,index_col=\"genes_name\")\n",
    "data.add_meta(path_meta=path_meta,index_col=\"samples_name\")"
   ]
  },
  {
   "cell_type": "code",
   "execution_count": 4,
   "id": "48f6f2b3-7477-4cd0-81dc-33858781e807",
   "metadata": {},
   "outputs": [],
   "source": [
    "from sklearn.linear_model import LinearRegression\n",
    "import statsmodels.api as sm\n",
    "import statsmodels.formula.api as smf"
   ]
  },
  {
   "cell_type": "code",
   "execution_count": 5,
   "id": "f941572e-ff55-448a-ab40-f33b423622ee",
   "metadata": {},
   "outputs": [],
   "source": [
    "def get_design_matrix(metadata,colname,**kwargs):\n",
    "    return pd.get_dummies(metadata[colname],dtype=int,**kwargs)"
   ]
  },
  {
   "cell_type": "code",
   "execution_count": 6,
   "id": "c3e9b03a-f9a8-4aad-9baf-33b05bf88809",
   "metadata": {},
   "outputs": [],
   "source": [
    "design=get_design_matrix(data.meta,colname=\"Subgroup\")"
   ]
  },
  {
   "cell_type": "code",
   "execution_count": 7,
   "id": "30a8bb3a-93af-48aa-9ee6-574c29fabc38",
   "metadata": {},
   "outputs": [
    {
     "data": {
      "text/plain": [
       "Subgroup\n",
       "Group4    326\n",
       "SHH       223\n",
       "Group3    144\n",
       "WNT        70\n",
       "Name: count, dtype: int64"
      ]
     },
     "execution_count": 7,
     "metadata": {},
     "output_type": "execute_result"
    }
   ],
   "source": [
    "data.meta[\"Subgroup\"].value_counts()"
   ]
  },
  {
   "cell_type": "code",
   "execution_count": 8,
   "id": "1ad3cc78-544f-432d-b29a-3b97d12ace92",
   "metadata": {},
   "outputs": [],
   "source": [
    "data_nb=pd.concat([data.exp_mat.loc['TSPAN6',data.meta.index.to_list()],data.meta['Subtype']],axis=1)"
   ]
  },
  {
   "cell_type": "markdown",
   "id": "5e802b01-4728-4e5e-bcfb-411fa46bd5c8",
   "metadata": {},
   "source": [
    "**PyDESeq2**"
   ]
  },
  {
   "cell_type": "code",
   "execution_count": 9,
   "id": "d001e894-89af-4c07-8813-fd6e20077414",
   "metadata": {},
   "outputs": [],
   "source": [
    "def trimmed_mean(x: np.ndarray, trim: float = 0.1, **kwargs) -> np.ndarray:\n",
    "\n",
    "    assert trim <= 0.5\n",
    "\n",
    "    kwargs.setdefault('axis',0)\n",
    "    \n",
    "    axis = kwargs.get(\"axis\")\n",
    "    s = np.sort(x,**kwargs)\n",
    "    n = x.shape[axis]\n",
    "    ntrim = math.floor(n * trim)\n",
    "    return np.take(s, np.arange(ntrim, n - ntrim), axis).mean(**kwargs) "
   ]
  },
  {
   "cell_type": "code",
   "execution_count": 12,
   "id": "e31c2606-c1b1-4ac8-9e23-241f90e0695e",
   "metadata": {},
   "outputs": [],
   "source": [
    "import math\n",
    "\n",
    "def trimmed_design_variance(exp_mat: np.ndarray, design_series: pd.Series) -> np.ndarray:\n",
    "\n",
    "    # how much to trim at different n\n",
    "    trimratio = (1 / 3, 1 / 4, 1 / 8)\n",
    "\n",
    "    def trimfn(x:float)-> int :\n",
    "        return 2 if x >= 23.5 else 1 if x >= 3.5 else 0\n",
    "\n",
    "    ns = design_series.value_counts()\n",
    "    sqerror = np.zeros_like(exp_mat)\n",
    "    design_vars = design_series.unique()\n",
    "    \n",
    "    for var in design_vars:\n",
    "        var_means = trimmed_mean(x=exp_mat[design_series == var,:],trim=trimratio[trimfn(ns[var])],axis=0)\n",
    "        sqerror[design_series == var,:] = exp_mat[design_series == var,:] - var_means\n",
    "\n",
    "    sqerror**=2\n",
    "\n",
    "    variance_estimated = np.zeros((len(ns), exp_mat.shape[1]), dtype=float)\n",
    "    for i, var in enumerate(design_vars):\n",
    "        scale = [2.04, 1.86, 1.51][trimfn(ns[var])]\n",
    "        variance_means = trimmed_mean(sqerror[design_series == var, :], trim=trimratio[trimfn(ns[var])], axis=0)\n",
    "        variance_estimated = scale * variance_means\n",
    "    \n",
    "    return variance_estimated.max(axis=0)"
   ]
  },
  {
   "cell_type": "code",
   "execution_count": 87,
   "id": "d4a6aceb-6725-40a2-a754-90015f5a8c4b",
   "metadata": {},
   "outputs": [
    {
     "data": {
      "text/plain": [
       "9.627642009349003"
      ]
     },
     "execution_count": 87,
     "metadata": {},
     "output_type": "execute_result"
    }
   ],
   "source": [
    "trimmed_design_variance(exp_mat=np.array(data.exp_mat.T), design_series=data.meta['Subtype'])"
   ]
  },
  {
   "cell_type": "code",
   "execution_count": 88,
   "id": "679a0206-7bd6-4c00-8198-c663b8dae656",
   "metadata": {},
   "outputs": [],
   "source": [
    "def robust_method_of_moment_disp(exp_mat:np.ndarray,design_series:pd.Series):\n",
    "\n",
    "    v = trimmed_design_variance(exp_mat,design_series)\n",
    "\n",
    "    m = exp_mat.mean(axis=0)\n",
    "    alpha = (v - m) / m**2\n",
    "\n",
    "    # cannot use the typical min_disp = 1e-8 here or else all counts in the same\n",
    "    # group as the outlier count will get an extreme Cook's distance\n",
    "    min_disp = 0.04\n",
    "    np.maximum(alpha, min_disp, out=alpha)\n",
    "    return alpha"
   ]
  },
  {
   "cell_type": "code",
   "execution_count": 120,
   "id": "4c2f6bac-5762-4dd0-bf9d-2f382065c014",
   "metadata": {},
   "outputs": [],
   "source": [
    "alpha = robust_method_of_moment_disp(exp_mat=np.array(data.exp_mat.T), design_series=data.meta['Subtype'])"
   ]
  },
  {
   "cell_type": "code",
   "execution_count": 121,
   "id": "d195f88f-5aed-48be-9640-e821b77d7a04",
   "metadata": {},
   "outputs": [
    {
     "data": {
      "text/plain": [
       "20224"
      ]
     },
     "execution_count": 121,
     "metadata": {},
     "output_type": "execute_result"
    }
   ],
   "source": [
    "len(alpha)"
   ]
  },
  {
   "cell_type": "markdown",
   "id": "0a2c4ecf-ecd5-41d9-a285-ded933682023",
   "metadata": {},
   "source": [
    "## Test"
   ]
  },
  {
   "cell_type": "code",
   "execution_count": 254,
   "id": "047d17a5-e291-47a7-920a-4d383e293cdb",
   "metadata": {},
   "outputs": [],
   "source": [
    "# Calculate Cook's Distance\n",
    "def calculate_cooks_distance(model):\n",
    "    # Residuals and leverage\n",
    "    infl = model.get_influence()\n",
    "    cooks_d = infl.cooks_distance[0]\n",
    "    return cooks_d\n",
    "\n",
    "def calculate_distance_cook(exp_mat:pd.DataFrame,design_series:pd.Series):\n",
    "\n",
    "    outliers={}\n",
    "\n",
    "    alphas = robust_method_of_moment_disp(np.array(exp_mat), design_series)\n",
    "    \n",
    "    genes = exp_mat.columns\n",
    "    exp_mat[design_series.name]=design_series\n",
    "    \n",
    "    m = len(design_series)\n",
    "    p = len(design_series.unique()) + 1\n",
    "    f_cutoff = f.ppf(0.99, p, m - p)\n",
    "    \n",
    "    for i,gene in enumerate(genes):\n",
    "        formula = f\"{gene} ~ C({design_series.name})\"\n",
    "        model = smf.glm(formula=formula, data=exp_mat[[gene,design_series.name]], family=sm.families.NegativeBinomial(alpha=1//alphas[i])).fit()\n",
    "\n",
    "        infl = model.get_influence()\n",
    "        cooks_d = infl.cooks_distance[0]\n",
    "\n",
    "        outliers_index = np.where(cooks_d > f_cutoff)[0]\n",
    "        \n",
    "        if len(outliers_index) > 0 :\n",
    "            outliers[gene]=tuple(outliers_index,cooks_d)\n",
    "\n",
    "        return outliers    "
   ]
  },
  {
   "cell_type": "code",
   "execution_count": 256,
   "id": "bfa353d6-e0fc-4ecd-9e56-94acd3b8697c",
   "metadata": {},
   "outputs": [],
   "source": [
    "a = np.array([[0, 1, 2],\n",
    "\n",
    "              [0, 2, 4],\n",
    "\n",
    "              [0, 3, 6]])"
   ]
  },
  {
   "cell_type": "code",
   "execution_count": null,
   "id": "949fe96d-2a5b-4ad1-aa21-4951cd7c8440",
   "metadata": {},
   "outputs": [],
   "source": [
    "calculate_distance_cook(exp_mat=data.exp_mat.T,design_series=data.meta['Subtype'])"
   ]
  },
  {
   "cell_type": "code",
   "execution_count": 125,
   "id": "23de7b95-8e20-49d9-9511-fd36772bcd33",
   "metadata": {},
   "outputs": [
    {
     "data": {
      "text/plain": [
       "array(['SHH_beta', 'Group3_alpha', 'Group4_gamma', 'Group4_beta',\n",
       "       'Group4_alpha', 'SHH_alpha', 'Group3_beta', 'SHH_gamma',\n",
       "       'WNT_beta', 'WNT_alpha', 'SHH_delta', 'Group3_gamma'], dtype=object)"
      ]
     },
     "execution_count": 125,
     "metadata": {},
     "output_type": "execute_result"
    }
   ],
   "source": [
    "data.meta['Subtype'].unique()"
   ]
  },
  {
   "cell_type": "code",
   "execution_count": 226,
   "id": "17786dd0-c8c0-4da9-97c6-46390e58d230",
   "metadata": {},
   "outputs": [],
   "source": [
    "test=data.exp_mat.columns.to_list()"
   ]
  },
  {
   "cell_type": "code",
   "execution_count": 227,
   "id": "77e9e7ea-bb77-4979-bba2-b76b3d486568",
   "metadata": {},
   "outputs": [],
   "source": [
    "test=test.remove('MB_SubtypeStudy_55001')"
   ]
  },
  {
   "cell_type": "code",
   "execution_count": 228,
   "id": "dd261d43-934d-4b5e-a9fa-e82ce56e5689",
   "metadata": {},
   "outputs": [
    {
     "name": "stdout",
     "output_type": "stream",
     "text": [
      "None\n"
     ]
    }
   ],
   "source": [
    "print(test)"
   ]
  },
  {
   "cell_type": "code",
   "execution_count": 92,
   "id": "14bda04f-671e-446c-9f62-bbfccf3fce53",
   "metadata": {},
   "outputs": [
    {
     "data": {
      "text/plain": [
       "'Group3 + Group4 + SHH + WNT'"
      ]
     },
     "execution_count": 92,
     "metadata": {},
     "output_type": "execute_result"
    }
   ],
   "source": [
    "#' + '.join(design.columns)"
   ]
  },
  {
   "cell_type": "code",
   "execution_count": 93,
   "id": "a05f8a44-3503-4fdf-ba82-721d873507ef",
   "metadata": {},
   "outputs": [],
   "source": [
    "def generator_formula(exp_mat:pd.DataFrame,design_matrix:pd.DataFrame):\n",
    "\n",
    "    groups = ' + '.join(design_matrix.columns)\n",
    "    for gene in exp_mat.columns:\n",
    "        yield f'{gene} ~ ' + groups"
   ]
  },
  {
   "cell_type": "code",
   "execution_count": 20,
   "id": "8920aa76-e3bc-4196-9832-ec9c92c1147d",
   "metadata": {},
   "outputs": [],
   "source": [
    "gen = generator_formula(exp_mat=data.exp_mat.T,design_matrix=design)"
   ]
  },
  {
   "cell_type": "code",
   "execution_count": 62,
   "id": "6e444f16-6fbc-47d1-8493-d89258bc6866",
   "metadata": {},
   "outputs": [],
   "source": [
    "import numpy as np\n",
    "import pandas as pd\n",
    "import statsmodels.api as sm\n",
    "import statsmodels.formula.api as smf\n",
    "from scipy.stats import f"
   ]
  },
  {
   "cell_type": "code",
   "execution_count": 63,
   "id": "7753f9d0-31a5-48bc-8f51-5e82085f1307",
   "metadata": {},
   "outputs": [],
   "source": [
    "df=pd.concat([data.exp_mat.T,design],axis=1)"
   ]
  },
  {
   "cell_type": "code",
   "execution_count": 116,
   "id": "2a43b70e-9d02-419d-9778-5fe9a688ebec",
   "metadata": {},
   "outputs": [
    {
     "data": {
      "text/html": [
       "<div>\n",
       "<style scoped>\n",
       "    .dataframe tbody tr th:only-of-type {\n",
       "        vertical-align: middle;\n",
       "    }\n",
       "\n",
       "    .dataframe tbody tr th {\n",
       "        vertical-align: top;\n",
       "    }\n",
       "\n",
       "    .dataframe thead th {\n",
       "        text-align: right;\n",
       "    }\n",
       "</style>\n",
       "<table border=\"1\" class=\"dataframe\">\n",
       "  <thead>\n",
       "    <tr style=\"text-align: right;\">\n",
       "      <th></th>\n",
       "      <th>Group3</th>\n",
       "      <th>Group4</th>\n",
       "      <th>SHH</th>\n",
       "      <th>WNT</th>\n",
       "    </tr>\n",
       "    <tr>\n",
       "      <th>samples_name</th>\n",
       "      <th></th>\n",
       "      <th></th>\n",
       "      <th></th>\n",
       "      <th></th>\n",
       "    </tr>\n",
       "  </thead>\n",
       "  <tbody>\n",
       "    <tr>\n",
       "      <th>MB_SubtypeStudy_55001</th>\n",
       "      <td>0</td>\n",
       "      <td>0</td>\n",
       "      <td>1</td>\n",
       "      <td>0</td>\n",
       "    </tr>\n",
       "    <tr>\n",
       "      <th>MB_SubtypeStudy_55002</th>\n",
       "      <td>1</td>\n",
       "      <td>0</td>\n",
       "      <td>0</td>\n",
       "      <td>0</td>\n",
       "    </tr>\n",
       "    <tr>\n",
       "      <th>MB_SubtypeStudy_55003</th>\n",
       "      <td>0</td>\n",
       "      <td>1</td>\n",
       "      <td>0</td>\n",
       "      <td>0</td>\n",
       "    </tr>\n",
       "    <tr>\n",
       "      <th>MB_SubtypeStudy_55004</th>\n",
       "      <td>0</td>\n",
       "      <td>1</td>\n",
       "      <td>0</td>\n",
       "      <td>0</td>\n",
       "    </tr>\n",
       "    <tr>\n",
       "      <th>MB_SubtypeStudy_55005</th>\n",
       "      <td>0</td>\n",
       "      <td>1</td>\n",
       "      <td>0</td>\n",
       "      <td>0</td>\n",
       "    </tr>\n",
       "    <tr>\n",
       "      <th>...</th>\n",
       "      <td>...</td>\n",
       "      <td>...</td>\n",
       "      <td>...</td>\n",
       "      <td>...</td>\n",
       "    </tr>\n",
       "    <tr>\n",
       "      <th>MB_SubtypeStudy_55759</th>\n",
       "      <td>0</td>\n",
       "      <td>0</td>\n",
       "      <td>1</td>\n",
       "      <td>0</td>\n",
       "    </tr>\n",
       "    <tr>\n",
       "      <th>MB_SubtypeStudy_55760</th>\n",
       "      <td>0</td>\n",
       "      <td>0</td>\n",
       "      <td>1</td>\n",
       "      <td>0</td>\n",
       "    </tr>\n",
       "    <tr>\n",
       "      <th>MB_SubtypeStudy_55761</th>\n",
       "      <td>0</td>\n",
       "      <td>1</td>\n",
       "      <td>0</td>\n",
       "      <td>0</td>\n",
       "    </tr>\n",
       "    <tr>\n",
       "      <th>MB_SubtypeStudy_55762</th>\n",
       "      <td>0</td>\n",
       "      <td>1</td>\n",
       "      <td>0</td>\n",
       "      <td>0</td>\n",
       "    </tr>\n",
       "    <tr>\n",
       "      <th>MB_SubtypeStudy_55763</th>\n",
       "      <td>0</td>\n",
       "      <td>1</td>\n",
       "      <td>0</td>\n",
       "      <td>0</td>\n",
       "    </tr>\n",
       "  </tbody>\n",
       "</table>\n",
       "<p>763 rows × 4 columns</p>\n",
       "</div>"
      ],
      "text/plain": [
       "                       Group3  Group4  SHH  WNT\n",
       "samples_name                                   \n",
       "MB_SubtypeStudy_55001       0       0    1    0\n",
       "MB_SubtypeStudy_55002       1       0    0    0\n",
       "MB_SubtypeStudy_55003       0       1    0    0\n",
       "MB_SubtypeStudy_55004       0       1    0    0\n",
       "MB_SubtypeStudy_55005       0       1    0    0\n",
       "...                       ...     ...  ...  ...\n",
       "MB_SubtypeStudy_55759       0       0    1    0\n",
       "MB_SubtypeStudy_55760       0       0    1    0\n",
       "MB_SubtypeStudy_55761       0       1    0    0\n",
       "MB_SubtypeStudy_55762       0       1    0    0\n",
       "MB_SubtypeStudy_55763       0       1    0    0\n",
       "\n",
       "[763 rows x 4 columns]"
      ]
     },
     "execution_count": 116,
     "metadata": {},
     "output_type": "execute_result"
    }
   ],
   "source": [
    "design"
   ]
  },
  {
   "cell_type": "code",
   "execution_count": 117,
   "id": "cf47cc74-5e8c-4e51-a99e-c009a82c47da",
   "metadata": {},
   "outputs": [],
   "source": [
    "model_nb = smf.glm(\"TSPAN6 ~ Group3 + Group4 + SHH + WNT +0\", data=df, family=sm.families.NegativeBinomial(alpha=0.07)).fit()"
   ]
  },
  {
   "cell_type": "code",
   "execution_count": 118,
   "id": "c4b32207-fd44-4ea3-8289-da3409509b6f",
   "metadata": {
    "scrolled": true
   },
   "outputs": [
    {
     "data": {
      "text/html": [
       "<table class=\"simpletable\">\n",
       "<tr>\n",
       "        <td>Model:</td>               <td>GLM</td>            <td>AIC:</td>        <td>3377.7646</td>\n",
       "</tr>\n",
       "<tr>\n",
       "    <td>Link Function:</td>           <td>Log</td>            <td>BIC:</td>       <td>-5014.5537</td>\n",
       "</tr>\n",
       "<tr>\n",
       "  <td>Dependent Variable:</td>      <td>TSPAN6</td>      <td>Log-Likelihood:</td>   <td>-1683.9</td> \n",
       "</tr>\n",
       "<tr>\n",
       "         <td>Date:</td>        <td>2024-11-04 15:42</td>    <td>LL-Null:</td>       <td>-1686.1</td> \n",
       "</tr>\n",
       "<tr>\n",
       "   <td>No. Observations:</td>         <td>763</td>          <td>Deviance:</td>      <td>16.488</td>  \n",
       "</tr>\n",
       "<tr>\n",
       "       <td>Df Model:</td>              <td>4</td>         <td>Pearson chi2:</td>     <td>16.3</td>   \n",
       "</tr>\n",
       "<tr>\n",
       "     <td>Df Residuals:</td>           <td>758</td>           <td>Scale:</td>        <td>1.0000</td>  \n",
       "</tr>\n",
       "<tr>\n",
       "        <td>Method:</td>             <td>IRLS</td>              <td></td>              <td></td>     \n",
       "</tr>\n",
       "</table>\n",
       "<table class=\"simpletable\">\n",
       "<tr>\n",
       "     <td></td>     <th>Coef.</th>  <th>Std.Err.</th>    <th>z</th>     <th>P>|z|</th> <th>[0.025</th>  <th>0.975]</th>\n",
       "</tr>\n",
       "<tr>\n",
       "  <th>Group3</th> <td>2.1727</td>   <td>0.2283</td>  <td>9.5152</td>  <td>0.0000</td> <td>1.7251</td>  <td>2.6202</td>\n",
       "</tr>\n",
       "<tr>\n",
       "  <th>Group4</th> <td>2.1394</td>   <td>0.2190</td>  <td>9.7676</td>  <td>0.0000</td> <td>1.7101</td>  <td>2.5687</td>\n",
       "</tr>\n",
       "<tr>\n",
       "  <th>SHH[0]</th> <td>-0.0165</td>  <td>0.0418</td>  <td>-0.3951</td> <td>0.6928</td> <td>-0.0984</td> <td>0.0654</td>\n",
       "</tr>\n",
       "<tr>\n",
       "  <th>SHH[1]</th> <td>2.2198</td>   <td>0.2221</td>  <td>9.9957</td>  <td>0.0000</td> <td>1.7846</td>  <td>2.6551</td>\n",
       "</tr>\n",
       "<tr>\n",
       "  <th>WNT</th>    <td>2.1692</td>   <td>0.2270</td>  <td>9.5564</td>  <td>0.0000</td> <td>1.7243</td>  <td>2.6141</td>\n",
       "</tr>\n",
       "</table><br/>\n"
      ],
      "text/latex": [
       "\\begin{table}\n",
       "\\caption{Results: Generalized linear model}\n",
       "\\label{}\n",
       "\\begin{center}\n",
       "\\begin{tabular}{llll}\n",
       "\\hline\n",
       "Model:              & GLM              & AIC:            & 3377.7646   \\\\\n",
       "Link Function:      & Log              & BIC:            & -5014.5537  \\\\\n",
       "Dependent Variable: & TSPAN6           & Log-Likelihood: & -1683.9     \\\\\n",
       "Date:               & 2024-11-04 15:42 & LL-Null:        & -1686.1     \\\\\n",
       "No. Observations:   & 763              & Deviance:       & 16.488      \\\\\n",
       "Df Model:           & 4                & Pearson chi2:   & 16.3        \\\\\n",
       "Df Residuals:       & 758              & Scale:          & 1.0000      \\\\\n",
       "Method:             & IRLS             &                 &             \\\\\n",
       "\\hline\n",
       "\\end{tabular}\n",
       "\\end{center}\n",
       "\n",
       "\\begin{center}\n",
       "\\begin{tabular}{lrrrrrr}\n",
       "\\hline\n",
       "       &   Coef. & Std.Err. &       z & P$> |$z$|$ &  [0.025 & 0.975]  \\\\\n",
       "\\hline\n",
       "Group3 &  2.1727 &   0.2283 &  9.5152 &      0.0000 &  1.7251 & 2.6202  \\\\\n",
       "Group4 &  2.1394 &   0.2190 &  9.7676 &      0.0000 &  1.7101 & 2.5687  \\\\\n",
       "SHH[0] & -0.0165 &   0.0418 & -0.3951 &      0.6928 & -0.0984 & 0.0654  \\\\\n",
       "SHH[1] &  2.2198 &   0.2221 &  9.9957 &      0.0000 &  1.7846 & 2.6551  \\\\\n",
       "WNT    &  2.1692 &   0.2270 &  9.5564 &      0.0000 &  1.7243 & 2.6141  \\\\\n",
       "\\hline\n",
       "\\end{tabular}\n",
       "\\end{center}\n",
       "\\end{table}\n",
       "\\bigskip\n"
      ],
      "text/plain": [
       "<class 'statsmodels.iolib.summary2.Summary'>\n",
       "\"\"\"\n",
       "               Results: Generalized linear model\n",
       "===============================================================\n",
       "Model:              GLM              AIC:            3377.7646 \n",
       "Link Function:      Log              BIC:            -5014.5537\n",
       "Dependent Variable: TSPAN6           Log-Likelihood: -1683.9   \n",
       "Date:               2024-11-04 15:42 LL-Null:        -1686.1   \n",
       "No. Observations:   763              Deviance:       16.488    \n",
       "Df Model:           4                Pearson chi2:   16.3      \n",
       "Df Residuals:       758              Scale:          1.0000    \n",
       "Method:             IRLS                                       \n",
       "-----------------------------------------------------------------\n",
       "          Coef.    Std.Err.      z      P>|z|     [0.025   0.975]\n",
       "-----------------------------------------------------------------\n",
       "Group3    2.1727     0.2283    9.5152   0.0000    1.7251   2.6202\n",
       "Group4    2.1394     0.2190    9.7676   0.0000    1.7101   2.5687\n",
       "SHH[0]   -0.0165     0.0418   -0.3951   0.6928   -0.0984   0.0654\n",
       "SHH[1]    2.2198     0.2221    9.9957   0.0000    1.7846   2.6551\n",
       "WNT       2.1692     0.2270    9.5564   0.0000    1.7243   2.6141\n",
       "===============================================================\n",
       "\n",
       "\"\"\""
      ]
     },
     "execution_count": 118,
     "metadata": {},
     "output_type": "execute_result"
    }
   ],
   "source": [
    "model_nb.summary2()"
   ]
  },
  {
   "cell_type": "code",
   "execution_count": 119,
   "id": "e4c655a8-3bbb-44b9-811c-42351dd19fbc",
   "metadata": {},
   "outputs": [
    {
     "data": {
      "text/plain": [
       "[<matplotlib.lines.Line2D at 0x7b8e9d5f9900>]"
      ]
     },
     "execution_count": 119,
     "metadata": {},
     "output_type": "execute_result"
    },
    {
     "data": {
      "image/png": "[encoded data removed]",
      "text/plain": [
       "<Figure size 1000x600 with 1 Axes>"
      ]
     },
     "metadata": {},
     "output_type": "display_data"
    }
   ],
   "source": [
    "plt.figure(figsize=(10, 6))\n",
    "# KDE plot for predicted values\n",
    "plt.plot(model_nb.predict(), np.array(data.exp_mat)[0],'.')"
   ]
  },
  {
   "cell_type": "code",
   "execution_count": 79,
   "id": "c990aedd-ca07-4d10-9736-9d3db5f01221",
   "metadata": {},
   "outputs": [
    {
     "data": {
      "text/plain": [
       "763"
      ]
     },
     "execution_count": 79,
     "metadata": {},
     "output_type": "execute_result"
    }
   ],
   "source": [
    "len(model_nb.predict())"
   ]
  },
  {
   "cell_type": "code",
   "execution_count": null,
   "id": "538db2cf-9912-494e-97d1-7046187cafc6",
   "metadata": {},
   "outputs": [],
   "source": []
  },
  {
   "cell_type": "code",
   "execution_count": 42,
   "id": "c7674b14-11a4-49a0-bc36-d5cbb7e41755",
   "metadata": {},
   "outputs": [],
   "source": [
    "counts=np.array(data.exp_mat)"
   ]
  },
  {
   "cell_type": "code",
   "execution_count": 46,
   "id": "edd943a0-48ad-4ea0-8400-4f8a63501546",
   "metadata": {},
   "outputs": [],
   "source": [
    "counts=counts[]"
   ]
  },
  {
   "cell_type": "code",
   "execution_count": null,
   "id": "3e16dad9-07bf-430f-ac22-084a4b3e35f6",
   "metadata": {},
   "outputs": [],
   "source": []
  },
  {
   "cell_type": "code",
   "execution_count": null,
   "id": "381c5ca7-58d1-4dd9-a5bd-744b3a7f7d76",
   "metadata": {},
   "outputs": [],
   "source": [
    "m = design.shape[0]\n",
    "p = design.shape[1]"
   ]
  },
  {
   "cell_type": "code",
   "execution_count": null,
   "id": "a26d0453-3d4b-49f6-94e5-1d55ce778c6a",
   "metadata": {},
   "outputs": [],
   "source": [
    "f_cutoff = f.ppf(0.99, p, m - p)  # Seuil de Cook à 99%\n",
    "\n",
    "# Identification des outliers potentiels\n",
    "outliers_nb = np.where(cooks_d_nb > f_cutoff)[0]\n",
    "print(\"Indices des valeurs aberrantes potentielles:\", outliers_nb)\n",
    "print(\"Distances de Cook des valeurs aberrantes:\", cooks_d_nb[outliers_nb])\n",
    "print(\"Seuil de la distance de Cook (F-distribution):\", f_cutoff)"
   ]
  },
  {
   "cell_type": "code",
   "execution_count": null,
   "id": "0e766fb3-14da-4f2d-bfa9-e7b1792e9fd1",
   "metadata": {},
   "outputs": [],
   "source": [
    "import numpy as np\n",
    "from scipy import stats\n",
    "import statsmodels.api as sm\n",
    "\n",
    "# generate some data to check\n",
    "nobs = 1000\n",
    "n, p = 50, 0.25\n",
    "dist0 = stats.nbinom(n, p)\n",
    "y = dist0.rvs(size=nobs)\n",
    "x = np.ones(nobs)\n",
    "\n",
    "loglike_method = 'nb1'  # or use 'nb2'\n",
    "res = sm.NegativeBinomial(y, x, loglike_method=loglike_method).fit(start_params=[0.1, 0.1])\n",
    "\n",
    "print dist0.mean()\n",
    "print res.params\n",
    "\n",
    "mu = res.predict()   # use this for mean if not constant\n",
    "mu = np.exp(res.params[0])   # shortcut, we just regress on a constant\n",
    "alpha = res.params[1]\n",
    "\n",
    "if loglike_method == 'nb1':\n",
    "    Q = 1\n",
    "elif loglike_method == 'nb2':    \n",
    "    Q = 0\n",
    "\n",
    "size = 1. / alpha * mu**Q\n",
    "prob = size / (size + mu)\n",
    "\n",
    "print 'data generating parameters', n, p\n",
    "print 'estimated params          ', size, prob\n",
    "\n",
    "#estimated distribution\n",
    "dist_est = stats.nbinom(size, prob)"
   ]
  },
  {
   "cell_type": "code",
   "execution_count": 176,
   "id": "4d97c701-54a5-47e9-9b14-a70daff19d96",
   "metadata": {},
   "outputs": [
    {
     "name": "stderr",
     "output_type": "stream",
     "text": [
      "/home/thomas/anaconda3/lib/python3.10/site-packages/statsmodels/genmod/families/family.py:1403: RuntimeWarning: divide by zero encountered in scalar divide\n",
      "  endog_alpha = endog + 1 / self.alpha\n",
      "/home/thomas/anaconda3/lib/python3.10/site-packages/statsmodels/genmod/families/family.py:1404: RuntimeWarning: divide by zero encountered in scalar divide\n",
      "  mu_alpha = mu + 1 / self.alpha\n",
      "/home/thomas/anaconda3/lib/python3.10/site-packages/statsmodels/genmod/families/family.py:1406: RuntimeWarning: invalid value encountered in divide\n",
      "  resid_dev -= endog_alpha * np.log(endog_alpha / mu_alpha)\n"
     ]
    },
    {
     "data": {
      "text/plain": [
       "<matplotlib.legend.Legend at 0x7b8e88d621d0>"
      ]
     },
     "execution_count": 176,
     "metadata": {},
     "output_type": "execute_result"
    },
    {
     "data": {
      "image/png": "[encoded data removed]",
      "text/plain": [
       "<Figure size 640x480 with 1 Axes>"
      ]
     },
     "metadata": {},
     "output_type": "display_data"
    }
   ],
   "source": [
    "import numpy as np\n",
    "import pandas as pd\n",
    "from matplotlib import pyplot as plt\n",
    "import statsmodels.formula.api as smf \n",
    "import statsmodels.api as sm\n",
    "\n",
    "# creating the dataframe\n",
    "black = [119,16,12,7,3,2,0]\n",
    "white = [1070,60,14,4,0,0,1]\n",
    "resp = np.hstack([np.repeat(range(7), black), np.repeat(range(7), white)])\n",
    "race = np.repeat(['black', 'white'], [sum(black), sum(white)])\n",
    "victim = pd.DataFrame(data={'resp': resp, 'race': race})\n",
    "\n",
    "# performing the parameter sweep\n",
    "n_samples = 500\n",
    "alphas = np.linspace(0, 10, n_samples)\n",
    "llf = np.full(n_samples, fill_value=np.nan)\n",
    "for i, alpha in enumerate(alphas):\n",
    "    try:\n",
    "        model = smf.glm(formula = \"resp ~ C(race)\", data=victim, family=sm.families.NegativeBinomial(alpha=alpha)).fit()\n",
    "    except:\n",
    "        continue\n",
    "    llf[i] = model.llf\n",
    "\n",
    "# record the optimal value\n",
    "alpha_opt = alphas[np.nanargmax(llf)]\n",
    "dispersion = 1 / alpha_opt\n",
    "\n",
    "# plotting the results\n",
    "plt.plot(alphas, llf, label='Log-liklihood')\n",
    "plt.axvline(x=alpha_opt, color='g', label=f'Dispersion: {dispersion:0.5f}')\n",
    "plt.legend()"
   ]
  },
  {
   "cell_type": "code",
   "execution_count": 177,
   "id": "dc7b226e-5468-4dc6-afa9-7e72e52f84cc",
   "metadata": {},
   "outputs": [
    {
     "data": {
      "text/plain": [
       "array(['black', 'black', 'black', ..., 'white', 'white', 'white'],\n",
       "      dtype='<U5')"
      ]
     },
     "execution_count": 177,
     "metadata": {},
     "output_type": "execute_result"
    }
   ],
   "source": [
    "race"
   ]
  },
  {
   "cell_type": "code",
   "execution_count": 178,
   "id": "d470d00c-52a5-4e55-be4e-eab574415050",
   "metadata": {},
   "outputs": [
    {
     "data": {
      "text/html": [
       "<div>\n",
       "<style scoped>\n",
       "    .dataframe tbody tr th:only-of-type {\n",
       "        vertical-align: middle;\n",
       "    }\n",
       "\n",
       "    .dataframe tbody tr th {\n",
       "        vertical-align: top;\n",
       "    }\n",
       "\n",
       "    .dataframe thead th {\n",
       "        text-align: right;\n",
       "    }\n",
       "</style>\n",
       "<table border=\"1\" class=\"dataframe\">\n",
       "  <thead>\n",
       "    <tr style=\"text-align: right;\">\n",
       "      <th></th>\n",
       "      <th>resp</th>\n",
       "      <th>race</th>\n",
       "    </tr>\n",
       "  </thead>\n",
       "  <tbody>\n",
       "    <tr>\n",
       "      <th>0</th>\n",
       "      <td>0</td>\n",
       "      <td>black</td>\n",
       "    </tr>\n",
       "    <tr>\n",
       "      <th>1</th>\n",
       "      <td>0</td>\n",
       "      <td>black</td>\n",
       "    </tr>\n",
       "    <tr>\n",
       "      <th>2</th>\n",
       "      <td>0</td>\n",
       "      <td>black</td>\n",
       "    </tr>\n",
       "    <tr>\n",
       "      <th>3</th>\n",
       "      <td>0</td>\n",
       "      <td>black</td>\n",
       "    </tr>\n",
       "    <tr>\n",
       "      <th>4</th>\n",
       "      <td>0</td>\n",
       "      <td>black</td>\n",
       "    </tr>\n",
       "    <tr>\n",
       "      <th>...</th>\n",
       "      <td>...</td>\n",
       "      <td>...</td>\n",
       "    </tr>\n",
       "    <tr>\n",
       "      <th>1303</th>\n",
       "      <td>3</td>\n",
       "      <td>white</td>\n",
       "    </tr>\n",
       "    <tr>\n",
       "      <th>1304</th>\n",
       "      <td>3</td>\n",
       "      <td>white</td>\n",
       "    </tr>\n",
       "    <tr>\n",
       "      <th>1305</th>\n",
       "      <td>3</td>\n",
       "      <td>white</td>\n",
       "    </tr>\n",
       "    <tr>\n",
       "      <th>1306</th>\n",
       "      <td>3</td>\n",
       "      <td>white</td>\n",
       "    </tr>\n",
       "    <tr>\n",
       "      <th>1307</th>\n",
       "      <td>6</td>\n",
       "      <td>white</td>\n",
       "    </tr>\n",
       "  </tbody>\n",
       "</table>\n",
       "<p>1308 rows × 2 columns</p>\n",
       "</div>"
      ],
      "text/plain": [
       "      resp   race\n",
       "0        0  black\n",
       "1        0  black\n",
       "2        0  black\n",
       "3        0  black\n",
       "4        0  black\n",
       "...    ...    ...\n",
       "1303     3  white\n",
       "1304     3  white\n",
       "1305     3  white\n",
       "1306     3  white\n",
       "1307     6  white\n",
       "\n",
       "[1308 rows x 2 columns]"
      ]
     },
     "execution_count": 178,
     "metadata": {},
     "output_type": "execute_result"
    }
   ],
   "source": [
    "victim"
   ]
  },
  {
   "cell_type": "code",
   "execution_count": null,
   "id": "ac7c6782-bd34-4b90-968b-c243a90db4d7",
   "metadata": {},
   "outputs": [],
   "source": []
  }
 ],
 "metadata": {
  "kernelspec": {
   "display_name": "Python 3 (ipykernel)",
   "language": "python",
   "name": "python3"
  },
  "language_info": {
   "codemirror_mode": {
    "name": "ipython",
    "version": 3
   },
   "file_extension": ".py",
   "mimetype": "text/x-python",
   "name": "python",
   "nbconvert_exporter": "python",
   "pygments_lexer": "ipython3",
   "version": "3.10.15"
  }
 },
 "nbformat": 4,
 "nbformat_minor": 5
}
