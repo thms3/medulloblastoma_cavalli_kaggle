{
 "cells": [
  {
   "cell_type": "markdown",
   "id": "246d1ba6-c72b-4083-a647-9aa7da344fc9",
   "metadata": {},
   "source": [
    "# [GSE85217] UMAP\n",
    "\n",
    "# Import libraries"
   ]
  },
  {
   "cell_type": "code",
   "execution_count": 7,
   "id": "58748137-2e64-4a1f-af28-2e861978fd41",
   "metadata": {},
   "outputs": [
    {
     "name": "stdout",
     "output_type": "stream",
     "text": [
      "\u001b[35m[C 2024-11-01 14:20:45.778 ServerApp]\u001b[m No such file or directory: /home/thomas/Documents/git/medulloblastoma_cavalli_kaggle/code/local_version/nb/enable\n"
     ]
    }
   ],
   "source": [
    "!jupyter-lab enable widgetsnbextension"
   ]
  },
  {
   "cell_type": "code",
   "execution_count": 8,
   "id": "86bb6fe3-4bcf-42e7-81c8-e0a98ea33c30",
   "metadata": {},
   "outputs": [],
   "source": [
    "# lib\n",
    "import modin.pandas as pd\n",
    "import numpy as np\n",
    "import os\n",
    "from collections import OrderedDict\n",
    "import umap\n",
    "\n",
    "# fig\n",
    "import matplotlib.pyplot as plt\n",
    "import seaborn as sns\n",
    "\n",
    "# local lib\n",
    "import sys\n",
    "sys.path.insert(1,'/home/thomas/Documents/git/medulloblastoma_cavalli_kaggle/code/local_version/fun')\n",
    "\n",
    "from parser import Data"
   ]
  },
  {
   "cell_type": "code",
   "execution_count": 18,
   "id": "f0939a25-b193-46b1-8779-59f9d76ceef5",
   "metadata": {},
   "outputs": [],
   "source": [
    "class DimReduction():\n",
    "    \n",
    "    def __init__(self,mat_embedded:pd.DataFrame=None,metadata:pd.DataFrame=None,palette:dict=None,clusters:list=None):\n",
    "        self.mat_embedded=mat_embedded\n",
    "        self.metadata=metadata\n",
    "        self.palette=palette\n",
    "        self.clusters=clusters\n",
    "        \n",
    "    def add_mat_embedded(self,mat_embedded:pd.DataFrame):\n",
    "        \n",
    "        if mat_embedded.shape[1]!=2:\n",
    "            raise ValueError(\"Matrix embedded dimensions is not equal to 2 !\")\n",
    "        \n",
    "        self.mat_embedded=mat_embedded\n",
    "    \n",
    "    def add_metadata(self,metadata):\n",
    "        self.metadata=metadata\n",
    "    \n",
    "    def add_palette(self,palette):\n",
    "        self.palette=palette\n",
    "    \n",
    "    def add_clusters(self,col_clusters:str,metadata:pd.DataFrame=None):\n",
    "        \n",
    "        if metadata is None:\n",
    "            metadata=self.metadata\n",
    "            \n",
    "        if col_clusters in metadata.columns:\n",
    "            self.clusters=metadata[col_clusters]\n",
    "        else:\n",
    "            raise ValueError(f\"{col_clusters} is not in metadata columns names\")\n",
    "    \n",
    "    @staticmethod\n",
    "    def check_index(mat1:pd.DataFrame,mat2:pd.DataFrame) -> pd.DataFrame:\n",
    "        \n",
    "        index_mat1=mat1.index.to_list()\n",
    "        index_mat2=mat2.index.to_list()\n",
    "        \n",
    "        if len(set(index_mat2).difference(set(index_mat1)))!=0:\n",
    "            raise ValueError(\"The index do not match!\")\n",
    "        \n",
    "        mat1=mat1.loc[index_mat2,]\n",
    "        \n",
    "        return mat1\n",
    "        \n",
    "    def compute_umap_model_2D(self,exp_mat:pd.DataFrame,inplace:bool=True,random_state:int=None,**kwargs):\n",
    "        \n",
    "        # kwargs set default value\n",
    "        kwargs.setdefault('n_neighbors',15)\n",
    "        kwargs.setdefault('min_dist',0.5)\n",
    "\n",
    "        if random_state is not None :\n",
    "            kwargs.setdefault('random_state',random_state)\n",
    "        \n",
    "        kwargs.pop('n_components',None)\n",
    "        \n",
    "        # initialize UMAP model from cuML\n",
    "        umap_model = umap.UMAP(n_components=2,**kwargs)\n",
    "        mat_embedded=umap_model.fit_transform(exp_mat)\n",
    "            \n",
    "        if inplace :\n",
    "            self.mat_embedded=mat_embedded\n",
    "        else:\n",
    "            return mat_embedded\n",
    "    \n",
    "    @staticmethod\n",
    "    def subplot_umap(ax:list=None,mat_embedded:pd.DataFrame=None,palette:dict=None,clusters:list=None,title:str=\"\",**kwargs):\n",
    "        \n",
    "        sns.scatterplot(data=mat_embedded, x=mat_embedded[0], y=mat_embedded[1], hue=clusters, palette=palette, ax=ax, **kwargs)\n",
    "        ax.set_title(title)\n",
    "    \n",
    "    def plot_umap_parms(self,parms:dict=None,exp_mat:pd.DataFrame=None,metadata:pd.DataFrame=None,clusters:list=None,col_clusters:list=None,\\\n",
    "                        palette:dict=None,size_subplot:tuple=(5,5),max_cols:int=3,main_title:str=\"\",y_main_title=1.02,**kwargs):\n",
    "        \n",
    "        if parms is None:\n",
    "            raise ValueError(\"Add parameters dictionnary\")\n",
    "              \n",
    "        if metadata is None :\n",
    "            if self.metadata is None:\n",
    "                raise ValueError(\"Add metadata samples x features\")\n",
    "            else:\n",
    "                metadata = self.metadata\n",
    "        \n",
    "        exp_mat=self.check_index(mat1=exp_mat,mat2=metadata)\n",
    "        \n",
    "        if clusters is None and col_clusters is not None:\n",
    "            clusters=metadata[col_clusters]\n",
    "        elif clusters is None and self.clusters is not None:\n",
    "            clusters = self.clusters\n",
    "        else:\n",
    "            raise ValueError(\"Add clusters vector or columname cluster in metadata\")\n",
    "            \n",
    "        if palette is None:\n",
    "            if self.palette is not None:\n",
    "                palette=self.palette \n",
    "            else:\n",
    "                raise ValueError(\"Add palette\")\n",
    "                \n",
    "        n_plots=len(parms)\n",
    "        \n",
    "        # create grid\n",
    "        n_cols = min(max_cols, n_plots)\n",
    "        n_rows = (n_plots + n_cols - 1) // n_cols\n",
    "\n",
    "        figsize= (size_subplot[0] * n_cols, size_subplot[1] * n_rows)\n",
    "        fig, axes = plt.subplots(n_rows, n_cols, figsize=figsize, constrained_layout=True)\n",
    "        axes = axes.flatten() if n_plots > 1 else [axes]\n",
    "        \n",
    "        fig.suptitle(main_title, fontsize=12, y=1.02)\n",
    "        \n",
    "        for i in range(n_plots):\n",
    "            if i >= len(axes):\n",
    "                break\n",
    "            \n",
    "            kwargs_parms=parms[i]\n",
    "            mat_embedded = self.compute_umap_model_2D(exp_mat=exp_mat,inplace=False,**kwargs_parms)\n",
    "\n",
    "            subplot_title= \",\".join(f\"{key}={value}\" for key, value in kwargs_parms.items())\n",
    "            self.subplot_umap(ax=axes[i],mat_embedded=mat_embedded,palette=palette,clusters=clusters,title=subplot_title,**kwargs)\n",
    "            \n",
    "        plt.show()"
   ]
  },
  {
   "cell_type": "markdown",
   "id": "ebb67bf0-1ab3-427b-9af4-bb6e1504de04",
   "metadata": {},
   "source": [
    "## Datas"
   ]
  },
  {
   "cell_type": "code",
   "execution_count": 19,
   "id": "ee4633ff-eb0f-4b01-9644-7d4c528f3d2d",
   "metadata": {},
   "outputs": [],
   "source": [
    "path_data='/home/thomas/Documents/git/medulloblastoma_cavalli_kaggle/data/in/'\n",
    "path_exp_mat = path_data + 'GSE85217_M_exp_763_MB_SubtypeStudy_TaylorLab_parsed.txt'\n",
    "path_meta = path_data + 'GSE85217_Cavalli_subgroups_information_parsed.csv'"
   ]
  },
  {
   "cell_type": "code",
   "execution_count": 20,
   "id": "7833a118-6e80-436a-91f6-28c30d661281",
   "metadata": {},
   "outputs": [],
   "source": [
    "data=Data()\n",
    "data.add_exp_mat(path_exp_mat,index_col=\"genes_name\")\n",
    "data.add_meta(path_meta=path_meta,index_col=\"samples_name\")"
   ]
  },
  {
   "cell_type": "code",
   "execution_count": null,
   "id": "40acf57e-d2d1-4d37-9a0f-413176d39d2b",
   "metadata": {},
   "outputs": [],
   "source": []
  },
  {
   "cell_type": "code",
   "execution_count": 21,
   "id": "76526682-3392-4ef1-a44b-cdfe1d75e060",
   "metadata": {},
   "outputs": [],
   "source": [
    "def both_umap(exp_mat,metadata,parms={'min_dist': 0.5, 'n_neighbors': 25},n_rows=1,n_cols=2,size_subplot=(7,7),**kwargs):\n",
    "    \n",
    "    figsize= (size_subplot[0] * n_cols, size_subplot[1] * n_rows)\n",
    "    fig, axes = plt.subplots(n_rows, n_cols, figsize=figsize, constrained_layout=True)\n",
    "    axes = axes.flatten()\n",
    "    \n",
    "    umap=DimReduction()\n",
    "    mat_embedded = umap.compute_umap_model_2D(exp_mat=exp_mat,inplace=False,**parms)\n",
    "    mat_embedded.loc[metadata.index.to_list(),]\n",
    "    \n",
    "    subplot_title= \",\".join(f\"{key}={value}\" for key, value in parms.items())\n",
    "    umap.subplot_umap(ax=axes[0],mat_embedded=mat_embedded,palette=pal_subgroup,clusters=metadata[\"Subgroup\"],title=subplot_title,**kwargs)\n",
    "    umap.subplot_umap(ax=axes[1],mat_embedded=mat_embedded,palette=pal_subtype,clusters=metadata[\"Subtype\"],title=subplot_title,**kwargs)\n",
    "    \n",
    "    plt.show()\n"
   ]
  },
  {
   "cell_type": "code",
   "execution_count": 23,
   "id": "f58374ab-edac-4a7a-a83f-00e7e7367d1d",
   "metadata": {},
   "outputs": [
    {
     "name": "stderr",
     "output_type": "stream",
     "text": [
      "UserWarning: n_jobs value 1 overridden to 1 by setting random_state. Use no seed for parallelism.\n"
     ]
    },
    {
     "ename": "AttributeError",
     "evalue": "'numpy.ndarray' object has no attribute 'loc'",
     "output_type": "error",
     "traceback": [
      "\u001b[0;31m---------------------------------------------------------------------------\u001b[0m",
      "\u001b[0;31mAttributeError\u001b[0m                            Traceback (most recent call last)",
      "Cell \u001b[0;32mIn[23], line 1\u001b[0m\n\u001b[0;32m----> 1\u001b[0m \u001b[43mboth_umap\u001b[49m\u001b[43m(\u001b[49m\u001b[43mexp_mat\u001b[49m\u001b[38;5;241;43m=\u001b[39;49m\u001b[43mdata\u001b[49m\u001b[38;5;241;43m.\u001b[39;49m\u001b[43mexp_mat\u001b[49m\u001b[38;5;241;43m.\u001b[39;49m\u001b[43mT\u001b[49m\u001b[43m,\u001b[49m\u001b[43mmetadata\u001b[49m\u001b[38;5;241;43m=\u001b[39;49m\u001b[43mdata\u001b[49m\u001b[38;5;241;43m.\u001b[39;49m\u001b[43mmeta\u001b[49m\u001b[43m,\u001b[49m\u001b[43mparms\u001b[49m\u001b[38;5;241;43m=\u001b[39;49m\u001b[43m{\u001b[49m\u001b[38;5;124;43m'\u001b[39;49m\u001b[38;5;124;43mmin_dist\u001b[39;49m\u001b[38;5;124;43m'\u001b[39;49m\u001b[43m:\u001b[49m\u001b[43m \u001b[49m\u001b[38;5;241;43m0.5\u001b[39;49m\u001b[43m,\u001b[49m\u001b[43m \u001b[49m\u001b[38;5;124;43m'\u001b[39;49m\u001b[38;5;124;43mn_neighbors\u001b[39;49m\u001b[38;5;124;43m'\u001b[39;49m\u001b[43m:\u001b[49m\u001b[43m \u001b[49m\u001b[38;5;241;43m17\u001b[39;49m\u001b[43m}\u001b[49m\u001b[43m)\u001b[49m\n",
      "Cell \u001b[0;32mIn[21], line 9\u001b[0m, in \u001b[0;36mboth_umap\u001b[0;34m(exp_mat, metadata, parms, n_rows, n_cols, size_subplot, **kwargs)\u001b[0m\n\u001b[1;32m      7\u001b[0m umap\u001b[38;5;241m=\u001b[39mDimReduction()\n\u001b[1;32m      8\u001b[0m mat_embedded \u001b[38;5;241m=\u001b[39m umap\u001b[38;5;241m.\u001b[39mcompute_umap_model_2D(exp_mat\u001b[38;5;241m=\u001b[39mexp_mat,inplace\u001b[38;5;241m=\u001b[39m\u001b[38;5;28;01mFalse\u001b[39;00m,\u001b[38;5;241m*\u001b[39m\u001b[38;5;241m*\u001b[39mparms)\n\u001b[0;32m----> 9\u001b[0m \u001b[43mmat_embedded\u001b[49m\u001b[38;5;241;43m.\u001b[39;49m\u001b[43mloc\u001b[49m[metadata\u001b[38;5;241m.\u001b[39mindex\u001b[38;5;241m.\u001b[39mto_list(),]\n\u001b[1;32m     11\u001b[0m subplot_title\u001b[38;5;241m=\u001b[39m \u001b[38;5;124m\"\u001b[39m\u001b[38;5;124m,\u001b[39m\u001b[38;5;124m\"\u001b[39m\u001b[38;5;241m.\u001b[39mjoin(\u001b[38;5;124mf\u001b[39m\u001b[38;5;124m\"\u001b[39m\u001b[38;5;132;01m{\u001b[39;00mkey\u001b[38;5;132;01m}\u001b[39;00m\u001b[38;5;124m=\u001b[39m\u001b[38;5;132;01m{\u001b[39;00mvalue\u001b[38;5;132;01m}\u001b[39;00m\u001b[38;5;124m\"\u001b[39m \u001b[38;5;28;01mfor\u001b[39;00m key, value \u001b[38;5;129;01min\u001b[39;00m parms\u001b[38;5;241m.\u001b[39mitems())\n\u001b[1;32m     12\u001b[0m umap\u001b[38;5;241m.\u001b[39msubplot_umap(ax\u001b[38;5;241m=\u001b[39maxes[\u001b[38;5;241m0\u001b[39m],mat_embedded\u001b[38;5;241m=\u001b[39mmat_embedded,palette\u001b[38;5;241m=\u001b[39mpal_subgroup,clusters\u001b[38;5;241m=\u001b[39mmetadata[\u001b[38;5;124m\"\u001b[39m\u001b[38;5;124mSubgroup\u001b[39m\u001b[38;5;124m\"\u001b[39m],title\u001b[38;5;241m=\u001b[39msubplot_title,\u001b[38;5;241m*\u001b[39m\u001b[38;5;241m*\u001b[39mkwargs)\n",
      "\u001b[0;31mAttributeError\u001b[0m: 'numpy.ndarray' object has no attribute 'loc'"
     ]
    },
    {
     "data": {
      "image/png": "[encoded data removed]",
      "text/plain": [
       "<Figure size 1400x700 with 2 Axes>"
      ]
     },
     "metadata": {},
     "output_type": "display_data"
    }
   ],
   "source": [
    "\n",
    "both_umap(exp_mat=data.exp_mat.T,metadata=data.meta,parms={'min_dist': 0.5, 'n_neighbors': 17})\n"
   ]
  },
  {
   "cell_type": "code",
   "execution_count": 15,
   "id": "76fad98e-acae-4241-877e-3c6e916c8f64",
   "metadata": {},
   "outputs": [],
   "source": [
    "np.random.seed(42)\n",
    "data = np.random.rand(800, 4)"
   ]
  },
  {
   "cell_type": "code",
   "execution_count": 16,
   "id": "64027d39-9c17-47f8-a3e1-3881d7cb08d7",
   "metadata": {},
   "outputs": [
    {
     "name": "stdout",
     "output_type": "stream",
     "text": [
      "CPU times: user 9.84 s, sys: 1.09 s, total: 10.9 s\n",
      "Wall time: 7.48 s\n"
     ]
    }
   ],
   "source": [
    "fit = umap.UMAP()\n",
    "%time u = fit.fit_transform(data)"
   ]
  },
  {
   "cell_type": "code",
   "execution_count": 17,
   "id": "1f51bb21-2f16-4542-89f0-294756203671",
   "metadata": {},
   "outputs": [
    {
     "data": {
      "text/plain": [
       "array([[7.496579 , 3.5664954],\n",
       "       [1.5045604, 7.3246465],\n",
       "       [2.9229844, 5.4906516],\n",
       "       ...,\n",
       "       [2.7857485, 4.2951765],\n",
       "       [3.5966046, 3.6116633],\n",
       "       [1.7789819, 2.502766 ]], dtype=float32)"
      ]
     },
     "execution_count": 17,
     "metadata": {},
     "output_type": "execute_result"
    }
   ],
   "source": [
    "u"
   ]
  },
  {
   "cell_type": "code",
   "execution_count": null,
   "id": "e912fa78-ddb9-492d-881d-134b935d71ae",
   "metadata": {},
   "outputs": [],
   "source": []
  }
 ],
 "metadata": {
  "kernelspec": {
   "display_name": "gse85217_medulloblastoma",
   "language": "python",
   "name": "gse85217_medulloblastoma"
  },
  "language_info": {
   "codemirror_mode": {
    "name": "ipython",
    "version": 3
   },
   "file_extension": ".py",
   "mimetype": "text/x-python",
   "name": "python",
   "nbconvert_exporter": "python",
   "pygments_lexer": "ipython3",
   "version": "3.10.15"
  }
 },
 "nbformat": 4,
 "nbformat_minor": 5
}
